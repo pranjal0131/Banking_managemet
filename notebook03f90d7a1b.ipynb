{
 "cells": [
  {
   "cell_type": "code",
   "execution_count": 1,
   "id": "ace0596c",
   "metadata": {
    "_cell_guid": "b1076dfc-b9ad-4769-8c92-a6c4dae69d19",
    "_uuid": "8f2839f25d086af736a60e9eeb907d3b93b6e0e5",
    "execution": {
     "iopub.execute_input": "2025-01-26T11:50:32.094543Z",
     "iopub.status.busy": "2025-01-26T11:50:32.093992Z",
     "iopub.status.idle": "2025-01-26T11:50:33.082396Z",
     "shell.execute_reply": "2025-01-26T11:50:33.081119Z"
    },
    "papermill": {
     "duration": 1.000855,
     "end_time": "2025-01-26T11:50:33.084148",
     "exception": false,
     "start_time": "2025-01-26T11:50:32.083293",
     "status": "completed"
    },
    "tags": []
   },
   "outputs": [
    {
     "name": "stdout",
     "output_type": "stream",
     "text": [
      "/kaggle/input/credit-card-customer-churn-prediction/Churn_Modelling.csv\n"
     ]
    }
   ],
   "source": [
    "# This Python 3 environment comes with many helpful analytics libraries installed\n",
    "# It is defined by the kaggle/python Docker image: https://github.com/kaggle/docker-python\n",
    "# For example, here's several helpful packages to load\n",
    "\n",
    "import numpy as np # linear algebra\n",
    "import pandas as pd # data processing, CSV file I/O (e.g. pd.read_csv)\n",
    "\n",
    "# Input data files are available in the read-only \"../input/\" directory\n",
    "# For example, running this (by clicking run or pressing Shift+Enter) will list all files under the input directory\n",
    "\n",
    "import os\n",
    "for dirname, _, filenames in os.walk('/kaggle/input'):\n",
    "    for filename in filenames:\n",
    "        print(os.path.join(dirname, filename))\n",
    "\n",
    "# You can write up to 20GB to the current directory (/kaggle/working/) that gets preserved as output when you create a version using \"Save & Run All\" \n",
    "# You can also write temporary files to /kaggle/temp/, but they won't be saved outside of the current session"
   ]
  },
  {
   "cell_type": "code",
   "execution_count": 2,
   "id": "6f3c6093",
   "metadata": {
    "execution": {
     "iopub.execute_input": "2025-01-26T11:50:33.100758Z",
     "iopub.status.busy": "2025-01-26T11:50:33.100000Z",
     "iopub.status.idle": "2025-01-26T11:50:33.152451Z",
     "shell.execute_reply": "2025-01-26T11:50:33.151432Z"
    },
    "papermill": {
     "duration": 0.062933,
     "end_time": "2025-01-26T11:50:33.154810",
     "exception": false,
     "start_time": "2025-01-26T11:50:33.091877",
     "status": "completed"
    },
    "tags": []
   },
   "outputs": [],
   "source": [
    "df=pd.read_csv('/kaggle/input/credit-card-customer-churn-prediction/Churn_Modelling.csv')"
   ]
  },
  {
   "cell_type": "code",
   "execution_count": 3,
   "id": "aaa14d43",
   "metadata": {
    "execution": {
     "iopub.execute_input": "2025-01-26T11:50:33.171665Z",
     "iopub.status.busy": "2025-01-26T11:50:33.171186Z",
     "iopub.status.idle": "2025-01-26T11:50:33.201101Z",
     "shell.execute_reply": "2025-01-26T11:50:33.199979Z"
    },
    "papermill": {
     "duration": 0.040564,
     "end_time": "2025-01-26T11:50:33.203168",
     "exception": false,
     "start_time": "2025-01-26T11:50:33.162604",
     "status": "completed"
    },
    "tags": []
   },
   "outputs": [
    {
     "data": {
      "text/html": [
       "<div>\n",
       "<style scoped>\n",
       "    .dataframe tbody tr th:only-of-type {\n",
       "        vertical-align: middle;\n",
       "    }\n",
       "\n",
       "    .dataframe tbody tr th {\n",
       "        vertical-align: top;\n",
       "    }\n",
       "\n",
       "    .dataframe thead th {\n",
       "        text-align: right;\n",
       "    }\n",
       "</style>\n",
       "<table border=\"1\" class=\"dataframe\">\n",
       "  <thead>\n",
       "    <tr style=\"text-align: right;\">\n",
       "      <th></th>\n",
       "      <th>RowNumber</th>\n",
       "      <th>CustomerId</th>\n",
       "      <th>Surname</th>\n",
       "      <th>CreditScore</th>\n",
       "      <th>Geography</th>\n",
       "      <th>Gender</th>\n",
       "      <th>Age</th>\n",
       "      <th>Tenure</th>\n",
       "      <th>Balance</th>\n",
       "      <th>NumOfProducts</th>\n",
       "      <th>HasCrCard</th>\n",
       "      <th>IsActiveMember</th>\n",
       "      <th>EstimatedSalary</th>\n",
       "      <th>Exited</th>\n",
       "    </tr>\n",
       "  </thead>\n",
       "  <tbody>\n",
       "    <tr>\n",
       "      <th>0</th>\n",
       "      <td>1</td>\n",
       "      <td>15634602</td>\n",
       "      <td>Hargrave</td>\n",
       "      <td>619</td>\n",
       "      <td>France</td>\n",
       "      <td>Female</td>\n",
       "      <td>42</td>\n",
       "      <td>2</td>\n",
       "      <td>0.00</td>\n",
       "      <td>1</td>\n",
       "      <td>1</td>\n",
       "      <td>1</td>\n",
       "      <td>101348.88</td>\n",
       "      <td>1</td>\n",
       "    </tr>\n",
       "    <tr>\n",
       "      <th>1</th>\n",
       "      <td>2</td>\n",
       "      <td>15647311</td>\n",
       "      <td>Hill</td>\n",
       "      <td>608</td>\n",
       "      <td>Spain</td>\n",
       "      <td>Female</td>\n",
       "      <td>41</td>\n",
       "      <td>1</td>\n",
       "      <td>83807.86</td>\n",
       "      <td>1</td>\n",
       "      <td>0</td>\n",
       "      <td>1</td>\n",
       "      <td>112542.58</td>\n",
       "      <td>0</td>\n",
       "    </tr>\n",
       "    <tr>\n",
       "      <th>2</th>\n",
       "      <td>3</td>\n",
       "      <td>15619304</td>\n",
       "      <td>Onio</td>\n",
       "      <td>502</td>\n",
       "      <td>France</td>\n",
       "      <td>Female</td>\n",
       "      <td>42</td>\n",
       "      <td>8</td>\n",
       "      <td>159660.80</td>\n",
       "      <td>3</td>\n",
       "      <td>1</td>\n",
       "      <td>0</td>\n",
       "      <td>113931.57</td>\n",
       "      <td>1</td>\n",
       "    </tr>\n",
       "    <tr>\n",
       "      <th>3</th>\n",
       "      <td>4</td>\n",
       "      <td>15701354</td>\n",
       "      <td>Boni</td>\n",
       "      <td>699</td>\n",
       "      <td>France</td>\n",
       "      <td>Female</td>\n",
       "      <td>39</td>\n",
       "      <td>1</td>\n",
       "      <td>0.00</td>\n",
       "      <td>2</td>\n",
       "      <td>0</td>\n",
       "      <td>0</td>\n",
       "      <td>93826.63</td>\n",
       "      <td>0</td>\n",
       "    </tr>\n",
       "    <tr>\n",
       "      <th>4</th>\n",
       "      <td>5</td>\n",
       "      <td>15737888</td>\n",
       "      <td>Mitchell</td>\n",
       "      <td>850</td>\n",
       "      <td>Spain</td>\n",
       "      <td>Female</td>\n",
       "      <td>43</td>\n",
       "      <td>2</td>\n",
       "      <td>125510.82</td>\n",
       "      <td>1</td>\n",
       "      <td>1</td>\n",
       "      <td>1</td>\n",
       "      <td>79084.10</td>\n",
       "      <td>0</td>\n",
       "    </tr>\n",
       "  </tbody>\n",
       "</table>\n",
       "</div>"
      ],
      "text/plain": [
       "   RowNumber  CustomerId   Surname  CreditScore Geography  Gender  Age  \\\n",
       "0          1    15634602  Hargrave          619    France  Female   42   \n",
       "1          2    15647311      Hill          608     Spain  Female   41   \n",
       "2          3    15619304      Onio          502    France  Female   42   \n",
       "3          4    15701354      Boni          699    France  Female   39   \n",
       "4          5    15737888  Mitchell          850     Spain  Female   43   \n",
       "\n",
       "   Tenure    Balance  NumOfProducts  HasCrCard  IsActiveMember  \\\n",
       "0       2       0.00              1          1               1   \n",
       "1       1   83807.86              1          0               1   \n",
       "2       8  159660.80              3          1               0   \n",
       "3       1       0.00              2          0               0   \n",
       "4       2  125510.82              1          1               1   \n",
       "\n",
       "   EstimatedSalary  Exited  \n",
       "0        101348.88       1  \n",
       "1        112542.58       0  \n",
       "2        113931.57       1  \n",
       "3         93826.63       0  \n",
       "4         79084.10       0  "
      ]
     },
     "execution_count": 3,
     "metadata": {},
     "output_type": "execute_result"
    }
   ],
   "source": [
    "df.head()"
   ]
  },
  {
   "cell_type": "code",
   "execution_count": 4,
   "id": "bf819ff9",
   "metadata": {
    "execution": {
     "iopub.execute_input": "2025-01-26T11:50:33.219949Z",
     "iopub.status.busy": "2025-01-26T11:50:33.219384Z",
     "iopub.status.idle": "2025-01-26T11:50:33.226496Z",
     "shell.execute_reply": "2025-01-26T11:50:33.225243Z"
    },
    "papermill": {
     "duration": 0.017592,
     "end_time": "2025-01-26T11:50:33.228553",
     "exception": false,
     "start_time": "2025-01-26T11:50:33.210961",
     "status": "completed"
    },
    "tags": []
   },
   "outputs": [
    {
     "data": {
      "text/plain": [
       "(10000, 14)"
      ]
     },
     "execution_count": 4,
     "metadata": {},
     "output_type": "execute_result"
    }
   ],
   "source": [
    "df.shape"
   ]
  },
  {
   "cell_type": "code",
   "execution_count": 5,
   "id": "326595c8",
   "metadata": {
    "execution": {
     "iopub.execute_input": "2025-01-26T11:50:33.245576Z",
     "iopub.status.busy": "2025-01-26T11:50:33.245102Z",
     "iopub.status.idle": "2025-01-26T11:50:33.266449Z",
     "shell.execute_reply": "2025-01-26T11:50:33.265288Z"
    },
    "papermill": {
     "duration": 0.031759,
     "end_time": "2025-01-26T11:50:33.268201",
     "exception": false,
     "start_time": "2025-01-26T11:50:33.236442",
     "status": "completed"
    },
    "tags": []
   },
   "outputs": [
    {
     "data": {
      "text/plain": [
       "0"
      ]
     },
     "execution_count": 5,
     "metadata": {},
     "output_type": "execute_result"
    }
   ],
   "source": [
    "df.duplicated().sum()"
   ]
  },
  {
   "cell_type": "code",
   "execution_count": 6,
   "id": "ceaee8d2",
   "metadata": {
    "execution": {
     "iopub.execute_input": "2025-01-26T11:50:33.285220Z",
     "iopub.status.busy": "2025-01-26T11:50:33.284756Z",
     "iopub.status.idle": "2025-01-26T11:50:33.297978Z",
     "shell.execute_reply": "2025-01-26T11:50:33.296839Z"
    },
    "papermill": {
     "duration": 0.023734,
     "end_time": "2025-01-26T11:50:33.299789",
     "exception": false,
     "start_time": "2025-01-26T11:50:33.276055",
     "status": "completed"
    },
    "tags": []
   },
   "outputs": [
    {
     "data": {
      "text/plain": [
       "Exited\n",
       "0    7963\n",
       "1    2037\n",
       "Name: count, dtype: int64"
      ]
     },
     "execution_count": 6,
     "metadata": {},
     "output_type": "execute_result"
    }
   ],
   "source": [
    "df['Exited'].value_counts()"
   ]
  },
  {
   "cell_type": "code",
   "execution_count": 7,
   "id": "f02dc1eb",
   "metadata": {
    "execution": {
     "iopub.execute_input": "2025-01-26T11:50:33.317341Z",
     "iopub.status.busy": "2025-01-26T11:50:33.316893Z",
     "iopub.status.idle": "2025-01-26T11:50:33.325848Z",
     "shell.execute_reply": "2025-01-26T11:50:33.324787Z"
    },
    "papermill": {
     "duration": 0.01972,
     "end_time": "2025-01-26T11:50:33.327565",
     "exception": false,
     "start_time": "2025-01-26T11:50:33.307845",
     "status": "completed"
    },
    "tags": []
   },
   "outputs": [
    {
     "data": {
      "text/plain": [
       "Geography\n",
       "France     5014\n",
       "Germany    2509\n",
       "Spain      2477\n",
       "Name: count, dtype: int64"
      ]
     },
     "execution_count": 7,
     "metadata": {},
     "output_type": "execute_result"
    }
   ],
   "source": [
    "df['Geography'].value_counts()"
   ]
  },
  {
   "cell_type": "code",
   "execution_count": 8,
   "id": "713dc727",
   "metadata": {
    "execution": {
     "iopub.execute_input": "2025-01-26T11:50:33.345865Z",
     "iopub.status.busy": "2025-01-26T11:50:33.345362Z",
     "iopub.status.idle": "2025-01-26T11:50:33.354078Z",
     "shell.execute_reply": "2025-01-26T11:50:33.353004Z"
    },
    "papermill": {
     "duration": 0.019764,
     "end_time": "2025-01-26T11:50:33.355885",
     "exception": false,
     "start_time": "2025-01-26T11:50:33.336121",
     "status": "completed"
    },
    "tags": []
   },
   "outputs": [
    {
     "data": {
      "text/plain": [
       "Gender\n",
       "Male      5457\n",
       "Female    4543\n",
       "Name: count, dtype: int64"
      ]
     },
     "execution_count": 8,
     "metadata": {},
     "output_type": "execute_result"
    }
   ],
   "source": [
    "df['Gender'].value_counts()"
   ]
  },
  {
   "cell_type": "code",
   "execution_count": 9,
   "id": "340176ea",
   "metadata": {
    "execution": {
     "iopub.execute_input": "2025-01-26T11:50:33.373715Z",
     "iopub.status.busy": "2025-01-26T11:50:33.373260Z",
     "iopub.status.idle": "2025-01-26T11:50:33.389580Z",
     "shell.execute_reply": "2025-01-26T11:50:33.388390Z"
    },
    "papermill": {
     "duration": 0.027224,
     "end_time": "2025-01-26T11:50:33.391350",
     "exception": false,
     "start_time": "2025-01-26T11:50:33.364126",
     "status": "completed"
    },
    "tags": []
   },
   "outputs": [
    {
     "data": {
      "text/html": [
       "<div>\n",
       "<style scoped>\n",
       "    .dataframe tbody tr th:only-of-type {\n",
       "        vertical-align: middle;\n",
       "    }\n",
       "\n",
       "    .dataframe tbody tr th {\n",
       "        vertical-align: top;\n",
       "    }\n",
       "\n",
       "    .dataframe thead th {\n",
       "        text-align: right;\n",
       "    }\n",
       "</style>\n",
       "<table border=\"1\" class=\"dataframe\">\n",
       "  <thead>\n",
       "    <tr style=\"text-align: right;\">\n",
       "      <th></th>\n",
       "      <th>RowNumber</th>\n",
       "      <th>CustomerId</th>\n",
       "      <th>Surname</th>\n",
       "      <th>CreditScore</th>\n",
       "      <th>Geography</th>\n",
       "      <th>Gender</th>\n",
       "      <th>Age</th>\n",
       "      <th>Tenure</th>\n",
       "      <th>Balance</th>\n",
       "      <th>NumOfProducts</th>\n",
       "      <th>HasCrCard</th>\n",
       "      <th>IsActiveMember</th>\n",
       "      <th>EstimatedSalary</th>\n",
       "      <th>Exited</th>\n",
       "    </tr>\n",
       "  </thead>\n",
       "  <tbody>\n",
       "    <tr>\n",
       "      <th>0</th>\n",
       "      <td>1</td>\n",
       "      <td>15634602</td>\n",
       "      <td>Hargrave</td>\n",
       "      <td>619</td>\n",
       "      <td>France</td>\n",
       "      <td>Female</td>\n",
       "      <td>42</td>\n",
       "      <td>2</td>\n",
       "      <td>0.00</td>\n",
       "      <td>1</td>\n",
       "      <td>1</td>\n",
       "      <td>1</td>\n",
       "      <td>101348.88</td>\n",
       "      <td>1</td>\n",
       "    </tr>\n",
       "    <tr>\n",
       "      <th>1</th>\n",
       "      <td>2</td>\n",
       "      <td>15647311</td>\n",
       "      <td>Hill</td>\n",
       "      <td>608</td>\n",
       "      <td>Spain</td>\n",
       "      <td>Female</td>\n",
       "      <td>41</td>\n",
       "      <td>1</td>\n",
       "      <td>83807.86</td>\n",
       "      <td>1</td>\n",
       "      <td>0</td>\n",
       "      <td>1</td>\n",
       "      <td>112542.58</td>\n",
       "      <td>0</td>\n",
       "    </tr>\n",
       "    <tr>\n",
       "      <th>2</th>\n",
       "      <td>3</td>\n",
       "      <td>15619304</td>\n",
       "      <td>Onio</td>\n",
       "      <td>502</td>\n",
       "      <td>France</td>\n",
       "      <td>Female</td>\n",
       "      <td>42</td>\n",
       "      <td>8</td>\n",
       "      <td>159660.80</td>\n",
       "      <td>3</td>\n",
       "      <td>1</td>\n",
       "      <td>0</td>\n",
       "      <td>113931.57</td>\n",
       "      <td>1</td>\n",
       "    </tr>\n",
       "    <tr>\n",
       "      <th>3</th>\n",
       "      <td>4</td>\n",
       "      <td>15701354</td>\n",
       "      <td>Boni</td>\n",
       "      <td>699</td>\n",
       "      <td>France</td>\n",
       "      <td>Female</td>\n",
       "      <td>39</td>\n",
       "      <td>1</td>\n",
       "      <td>0.00</td>\n",
       "      <td>2</td>\n",
       "      <td>0</td>\n",
       "      <td>0</td>\n",
       "      <td>93826.63</td>\n",
       "      <td>0</td>\n",
       "    </tr>\n",
       "    <tr>\n",
       "      <th>4</th>\n",
       "      <td>5</td>\n",
       "      <td>15737888</td>\n",
       "      <td>Mitchell</td>\n",
       "      <td>850</td>\n",
       "      <td>Spain</td>\n",
       "      <td>Female</td>\n",
       "      <td>43</td>\n",
       "      <td>2</td>\n",
       "      <td>125510.82</td>\n",
       "      <td>1</td>\n",
       "      <td>1</td>\n",
       "      <td>1</td>\n",
       "      <td>79084.10</td>\n",
       "      <td>0</td>\n",
       "    </tr>\n",
       "  </tbody>\n",
       "</table>\n",
       "</div>"
      ],
      "text/plain": [
       "   RowNumber  CustomerId   Surname  CreditScore Geography  Gender  Age  \\\n",
       "0          1    15634602  Hargrave          619    France  Female   42   \n",
       "1          2    15647311      Hill          608     Spain  Female   41   \n",
       "2          3    15619304      Onio          502    France  Female   42   \n",
       "3          4    15701354      Boni          699    France  Female   39   \n",
       "4          5    15737888  Mitchell          850     Spain  Female   43   \n",
       "\n",
       "   Tenure    Balance  NumOfProducts  HasCrCard  IsActiveMember  \\\n",
       "0       2       0.00              1          1               1   \n",
       "1       1   83807.86              1          0               1   \n",
       "2       8  159660.80              3          1               0   \n",
       "3       1       0.00              2          0               0   \n",
       "4       2  125510.82              1          1               1   \n",
       "\n",
       "   EstimatedSalary  Exited  \n",
       "0        101348.88       1  \n",
       "1        112542.58       0  \n",
       "2        113931.57       1  \n",
       "3         93826.63       0  \n",
       "4         79084.10       0  "
      ]
     },
     "execution_count": 9,
     "metadata": {},
     "output_type": "execute_result"
    }
   ],
   "source": [
    "df.head()"
   ]
  },
  {
   "cell_type": "code",
   "execution_count": 10,
   "id": "58bfb517",
   "metadata": {
    "execution": {
     "iopub.execute_input": "2025-01-26T11:50:33.409822Z",
     "iopub.status.busy": "2025-01-26T11:50:33.409353Z",
     "iopub.status.idle": "2025-01-26T11:50:33.427300Z",
     "shell.execute_reply": "2025-01-26T11:50:33.426076Z"
    },
    "papermill": {
     "duration": 0.029151,
     "end_time": "2025-01-26T11:50:33.429264",
     "exception": false,
     "start_time": "2025-01-26T11:50:33.400113",
     "status": "completed"
    },
    "tags": []
   },
   "outputs": [],
   "source": [
    "df.drop(columns=['RowNumber','CustomerId','Surname'],inplace=True)"
   ]
  },
  {
   "cell_type": "code",
   "execution_count": 11,
   "id": "771c518c",
   "metadata": {
    "execution": {
     "iopub.execute_input": "2025-01-26T11:50:33.447144Z",
     "iopub.status.busy": "2025-01-26T11:50:33.446733Z",
     "iopub.status.idle": "2025-01-26T11:50:33.461231Z",
     "shell.execute_reply": "2025-01-26T11:50:33.460074Z"
    },
    "papermill": {
     "duration": 0.025319,
     "end_time": "2025-01-26T11:50:33.462963",
     "exception": false,
     "start_time": "2025-01-26T11:50:33.437644",
     "status": "completed"
    },
    "tags": []
   },
   "outputs": [
    {
     "data": {
      "text/html": [
       "<div>\n",
       "<style scoped>\n",
       "    .dataframe tbody tr th:only-of-type {\n",
       "        vertical-align: middle;\n",
       "    }\n",
       "\n",
       "    .dataframe tbody tr th {\n",
       "        vertical-align: top;\n",
       "    }\n",
       "\n",
       "    .dataframe thead th {\n",
       "        text-align: right;\n",
       "    }\n",
       "</style>\n",
       "<table border=\"1\" class=\"dataframe\">\n",
       "  <thead>\n",
       "    <tr style=\"text-align: right;\">\n",
       "      <th></th>\n",
       "      <th>CreditScore</th>\n",
       "      <th>Geography</th>\n",
       "      <th>Gender</th>\n",
       "      <th>Age</th>\n",
       "      <th>Tenure</th>\n",
       "      <th>Balance</th>\n",
       "      <th>NumOfProducts</th>\n",
       "      <th>HasCrCard</th>\n",
       "      <th>IsActiveMember</th>\n",
       "      <th>EstimatedSalary</th>\n",
       "      <th>Exited</th>\n",
       "    </tr>\n",
       "  </thead>\n",
       "  <tbody>\n",
       "    <tr>\n",
       "      <th>0</th>\n",
       "      <td>619</td>\n",
       "      <td>France</td>\n",
       "      <td>Female</td>\n",
       "      <td>42</td>\n",
       "      <td>2</td>\n",
       "      <td>0.00</td>\n",
       "      <td>1</td>\n",
       "      <td>1</td>\n",
       "      <td>1</td>\n",
       "      <td>101348.88</td>\n",
       "      <td>1</td>\n",
       "    </tr>\n",
       "    <tr>\n",
       "      <th>1</th>\n",
       "      <td>608</td>\n",
       "      <td>Spain</td>\n",
       "      <td>Female</td>\n",
       "      <td>41</td>\n",
       "      <td>1</td>\n",
       "      <td>83807.86</td>\n",
       "      <td>1</td>\n",
       "      <td>0</td>\n",
       "      <td>1</td>\n",
       "      <td>112542.58</td>\n",
       "      <td>0</td>\n",
       "    </tr>\n",
       "    <tr>\n",
       "      <th>2</th>\n",
       "      <td>502</td>\n",
       "      <td>France</td>\n",
       "      <td>Female</td>\n",
       "      <td>42</td>\n",
       "      <td>8</td>\n",
       "      <td>159660.80</td>\n",
       "      <td>3</td>\n",
       "      <td>1</td>\n",
       "      <td>0</td>\n",
       "      <td>113931.57</td>\n",
       "      <td>1</td>\n",
       "    </tr>\n",
       "    <tr>\n",
       "      <th>3</th>\n",
       "      <td>699</td>\n",
       "      <td>France</td>\n",
       "      <td>Female</td>\n",
       "      <td>39</td>\n",
       "      <td>1</td>\n",
       "      <td>0.00</td>\n",
       "      <td>2</td>\n",
       "      <td>0</td>\n",
       "      <td>0</td>\n",
       "      <td>93826.63</td>\n",
       "      <td>0</td>\n",
       "    </tr>\n",
       "    <tr>\n",
       "      <th>4</th>\n",
       "      <td>850</td>\n",
       "      <td>Spain</td>\n",
       "      <td>Female</td>\n",
       "      <td>43</td>\n",
       "      <td>2</td>\n",
       "      <td>125510.82</td>\n",
       "      <td>1</td>\n",
       "      <td>1</td>\n",
       "      <td>1</td>\n",
       "      <td>79084.10</td>\n",
       "      <td>0</td>\n",
       "    </tr>\n",
       "  </tbody>\n",
       "</table>\n",
       "</div>"
      ],
      "text/plain": [
       "   CreditScore Geography  Gender  Age  Tenure    Balance  NumOfProducts  \\\n",
       "0          619    France  Female   42       2       0.00              1   \n",
       "1          608     Spain  Female   41       1   83807.86              1   \n",
       "2          502    France  Female   42       8  159660.80              3   \n",
       "3          699    France  Female   39       1       0.00              2   \n",
       "4          850     Spain  Female   43       2  125510.82              1   \n",
       "\n",
       "   HasCrCard  IsActiveMember  EstimatedSalary  Exited  \n",
       "0          1               1        101348.88       1  \n",
       "1          0               1        112542.58       0  \n",
       "2          1               0        113931.57       1  \n",
       "3          0               0         93826.63       0  \n",
       "4          1               1         79084.10       0  "
      ]
     },
     "execution_count": 11,
     "metadata": {},
     "output_type": "execute_result"
    }
   ],
   "source": [
    "df.head()"
   ]
  },
  {
   "cell_type": "code",
   "execution_count": 12,
   "id": "49933192",
   "metadata": {
    "execution": {
     "iopub.execute_input": "2025-01-26T11:50:33.481032Z",
     "iopub.status.busy": "2025-01-26T11:50:33.480625Z",
     "iopub.status.idle": "2025-01-26T11:50:33.492782Z",
     "shell.execute_reply": "2025-01-26T11:50:33.491730Z"
    },
    "papermill": {
     "duration": 0.023469,
     "end_time": "2025-01-26T11:50:33.494919",
     "exception": false,
     "start_time": "2025-01-26T11:50:33.471450",
     "status": "completed"
    },
    "tags": []
   },
   "outputs": [],
   "source": [
    "df=pd.get_dummies(df,columns=['Geography','Gender'],drop_first=True)"
   ]
  },
  {
   "cell_type": "code",
   "execution_count": 13,
   "id": "3e805754",
   "metadata": {
    "execution": {
     "iopub.execute_input": "2025-01-26T11:50:33.513892Z",
     "iopub.status.busy": "2025-01-26T11:50:33.513425Z",
     "iopub.status.idle": "2025-01-26T11:50:33.529249Z",
     "shell.execute_reply": "2025-01-26T11:50:33.528261Z"
    },
    "papermill": {
     "duration": 0.027214,
     "end_time": "2025-01-26T11:50:33.531076",
     "exception": false,
     "start_time": "2025-01-26T11:50:33.503862",
     "status": "completed"
    },
    "tags": []
   },
   "outputs": [
    {
     "data": {
      "text/html": [
       "<div>\n",
       "<style scoped>\n",
       "    .dataframe tbody tr th:only-of-type {\n",
       "        vertical-align: middle;\n",
       "    }\n",
       "\n",
       "    .dataframe tbody tr th {\n",
       "        vertical-align: top;\n",
       "    }\n",
       "\n",
       "    .dataframe thead th {\n",
       "        text-align: right;\n",
       "    }\n",
       "</style>\n",
       "<table border=\"1\" class=\"dataframe\">\n",
       "  <thead>\n",
       "    <tr style=\"text-align: right;\">\n",
       "      <th></th>\n",
       "      <th>CreditScore</th>\n",
       "      <th>Age</th>\n",
       "      <th>Tenure</th>\n",
       "      <th>Balance</th>\n",
       "      <th>NumOfProducts</th>\n",
       "      <th>HasCrCard</th>\n",
       "      <th>IsActiveMember</th>\n",
       "      <th>EstimatedSalary</th>\n",
       "      <th>Exited</th>\n",
       "      <th>Geography_Germany</th>\n",
       "      <th>Geography_Spain</th>\n",
       "      <th>Gender_Male</th>\n",
       "    </tr>\n",
       "  </thead>\n",
       "  <tbody>\n",
       "    <tr>\n",
       "      <th>0</th>\n",
       "      <td>619</td>\n",
       "      <td>42</td>\n",
       "      <td>2</td>\n",
       "      <td>0.00</td>\n",
       "      <td>1</td>\n",
       "      <td>1</td>\n",
       "      <td>1</td>\n",
       "      <td>101348.88</td>\n",
       "      <td>1</td>\n",
       "      <td>False</td>\n",
       "      <td>False</td>\n",
       "      <td>False</td>\n",
       "    </tr>\n",
       "    <tr>\n",
       "      <th>1</th>\n",
       "      <td>608</td>\n",
       "      <td>41</td>\n",
       "      <td>1</td>\n",
       "      <td>83807.86</td>\n",
       "      <td>1</td>\n",
       "      <td>0</td>\n",
       "      <td>1</td>\n",
       "      <td>112542.58</td>\n",
       "      <td>0</td>\n",
       "      <td>False</td>\n",
       "      <td>True</td>\n",
       "      <td>False</td>\n",
       "    </tr>\n",
       "    <tr>\n",
       "      <th>2</th>\n",
       "      <td>502</td>\n",
       "      <td>42</td>\n",
       "      <td>8</td>\n",
       "      <td>159660.80</td>\n",
       "      <td>3</td>\n",
       "      <td>1</td>\n",
       "      <td>0</td>\n",
       "      <td>113931.57</td>\n",
       "      <td>1</td>\n",
       "      <td>False</td>\n",
       "      <td>False</td>\n",
       "      <td>False</td>\n",
       "    </tr>\n",
       "    <tr>\n",
       "      <th>3</th>\n",
       "      <td>699</td>\n",
       "      <td>39</td>\n",
       "      <td>1</td>\n",
       "      <td>0.00</td>\n",
       "      <td>2</td>\n",
       "      <td>0</td>\n",
       "      <td>0</td>\n",
       "      <td>93826.63</td>\n",
       "      <td>0</td>\n",
       "      <td>False</td>\n",
       "      <td>False</td>\n",
       "      <td>False</td>\n",
       "    </tr>\n",
       "    <tr>\n",
       "      <th>4</th>\n",
       "      <td>850</td>\n",
       "      <td>43</td>\n",
       "      <td>2</td>\n",
       "      <td>125510.82</td>\n",
       "      <td>1</td>\n",
       "      <td>1</td>\n",
       "      <td>1</td>\n",
       "      <td>79084.10</td>\n",
       "      <td>0</td>\n",
       "      <td>False</td>\n",
       "      <td>True</td>\n",
       "      <td>False</td>\n",
       "    </tr>\n",
       "  </tbody>\n",
       "</table>\n",
       "</div>"
      ],
      "text/plain": [
       "   CreditScore  Age  Tenure    Balance  NumOfProducts  HasCrCard  \\\n",
       "0          619   42       2       0.00              1          1   \n",
       "1          608   41       1   83807.86              1          0   \n",
       "2          502   42       8  159660.80              3          1   \n",
       "3          699   39       1       0.00              2          0   \n",
       "4          850   43       2  125510.82              1          1   \n",
       "\n",
       "   IsActiveMember  EstimatedSalary  Exited  Geography_Germany  \\\n",
       "0               1        101348.88       1              False   \n",
       "1               1        112542.58       0              False   \n",
       "2               0        113931.57       1              False   \n",
       "3               0         93826.63       0              False   \n",
       "4               1         79084.10       0              False   \n",
       "\n",
       "   Geography_Spain  Gender_Male  \n",
       "0            False        False  \n",
       "1             True        False  \n",
       "2            False        False  \n",
       "3            False        False  \n",
       "4             True        False  "
      ]
     },
     "execution_count": 13,
     "metadata": {},
     "output_type": "execute_result"
    }
   ],
   "source": [
    "df.head()"
   ]
  },
  {
   "cell_type": "code",
   "execution_count": 14,
   "id": "06d25c87",
   "metadata": {
    "execution": {
     "iopub.execute_input": "2025-01-26T11:50:33.552268Z",
     "iopub.status.busy": "2025-01-26T11:50:33.551781Z",
     "iopub.status.idle": "2025-01-26T11:50:35.084979Z",
     "shell.execute_reply": "2025-01-26T11:50:35.083625Z"
    },
    "papermill": {
     "duration": 1.545235,
     "end_time": "2025-01-26T11:50:35.087271",
     "exception": false,
     "start_time": "2025-01-26T11:50:33.542036",
     "status": "completed"
    },
    "tags": []
   },
   "outputs": [],
   "source": [
    "from sklearn.model_selection import train_test_split"
   ]
  },
  {
   "cell_type": "code",
   "execution_count": 15,
   "id": "dcaebe28",
   "metadata": {
    "execution": {
     "iopub.execute_input": "2025-01-26T11:50:35.105883Z",
     "iopub.status.busy": "2025-01-26T11:50:35.105239Z",
     "iopub.status.idle": "2025-01-26T11:50:35.116900Z",
     "shell.execute_reply": "2025-01-26T11:50:35.115804Z"
    },
    "papermill": {
     "duration": 0.022477,
     "end_time": "2025-01-26T11:50:35.118707",
     "exception": false,
     "start_time": "2025-01-26T11:50:35.096230",
     "status": "completed"
    },
    "tags": []
   },
   "outputs": [],
   "source": [
    "X=df.drop(columns='Exited')\n",
    "y=df['Exited']\n",
    "X_train,X_test,y_train,y_test=train_test_split(X,y,test_size=.2,random_state=1)"
   ]
  },
  {
   "cell_type": "markdown",
   "id": "6fb70963",
   "metadata": {
    "papermill": {
     "duration": 0.008252,
     "end_time": "2025-01-26T11:50:35.135235",
     "exception": false,
     "start_time": "2025-01-26T11:50:35.126983",
     "status": "completed"
    },
    "tags": []
   },
   "source": []
  },
  {
   "cell_type": "code",
   "execution_count": 16,
   "id": "e31fafc3",
   "metadata": {
    "execution": {
     "iopub.execute_input": "2025-01-26T11:50:35.152644Z",
     "iopub.status.busy": "2025-01-26T11:50:35.152238Z",
     "iopub.status.idle": "2025-01-26T11:50:35.158175Z",
     "shell.execute_reply": "2025-01-26T11:50:35.157166Z"
    },
    "papermill": {
     "duration": 0.016661,
     "end_time": "2025-01-26T11:50:35.159995",
     "exception": false,
     "start_time": "2025-01-26T11:50:35.143334",
     "status": "completed"
    },
    "tags": []
   },
   "outputs": [
    {
     "data": {
      "text/plain": [
       "(8000, 11)"
      ]
     },
     "execution_count": 16,
     "metadata": {},
     "output_type": "execute_result"
    }
   ],
   "source": [
    "X_train.shape"
   ]
  },
  {
   "cell_type": "code",
   "execution_count": 17,
   "id": "86833259",
   "metadata": {
    "execution": {
     "iopub.execute_input": "2025-01-26T11:50:35.177708Z",
     "iopub.status.busy": "2025-01-26T11:50:35.177350Z",
     "iopub.status.idle": "2025-01-26T11:50:35.208014Z",
     "shell.execute_reply": "2025-01-26T11:50:35.207049Z"
    },
    "papermill": {
     "duration": 0.04171,
     "end_time": "2025-01-26T11:50:35.210025",
     "exception": false,
     "start_time": "2025-01-26T11:50:35.168315",
     "status": "completed"
    },
    "tags": []
   },
   "outputs": [],
   "source": [
    "from sklearn.preprocessing import StandardScaler\n",
    "scaler=StandardScaler()\n",
    "X_train_scaled=scaler.fit_transform(X_train)\n",
    "X_test_scaled=scaler.transform(X_test)"
   ]
  },
  {
   "cell_type": "code",
   "execution_count": 18,
   "id": "1ea246a6",
   "metadata": {
    "execution": {
     "iopub.execute_input": "2025-01-26T11:50:35.228094Z",
     "iopub.status.busy": "2025-01-26T11:50:35.227737Z",
     "iopub.status.idle": "2025-01-26T11:50:35.234143Z",
     "shell.execute_reply": "2025-01-26T11:50:35.233076Z"
    },
    "papermill": {
     "duration": 0.017594,
     "end_time": "2025-01-26T11:50:35.236113",
     "exception": false,
     "start_time": "2025-01-26T11:50:35.218519",
     "status": "completed"
    },
    "tags": []
   },
   "outputs": [
    {
     "data": {
      "text/plain": [
       "array([[-0.23082038, -0.94449979, -0.70174202, ...,  1.71490137,\n",
       "        -0.57273139,  0.91509065],\n",
       "       [-0.25150912, -0.94449979, -0.35520275, ..., -0.58312392,\n",
       "        -0.57273139, -1.09278791],\n",
       "       [-0.3963303 ,  0.77498705,  0.33787579, ...,  1.71490137,\n",
       "        -0.57273139, -1.09278791],\n",
       "       ...,\n",
       "       [ 0.22433188,  0.58393295,  1.3774936 , ..., -0.58312392,\n",
       "        -0.57273139, -1.09278791],\n",
       "       [ 0.13123255,  0.01077067,  1.03095433, ..., -0.58312392,\n",
       "        -0.57273139, -1.09278791],\n",
       "       [ 1.1656695 ,  0.29735181,  0.33787579, ...,  1.71490137,\n",
       "        -0.57273139,  0.91509065]])"
      ]
     },
     "execution_count": 18,
     "metadata": {},
     "output_type": "execute_result"
    }
   ],
   "source": [
    "X_train_scaled"
   ]
  },
  {
   "cell_type": "code",
   "execution_count": 19,
   "id": "c0275656",
   "metadata": {
    "execution": {
     "iopub.execute_input": "2025-01-26T11:50:35.254353Z",
     "iopub.status.busy": "2025-01-26T11:50:35.254011Z",
     "iopub.status.idle": "2025-01-26T11:50:50.347965Z",
     "shell.execute_reply": "2025-01-26T11:50:50.346644Z"
    },
    "papermill": {
     "duration": 15.105615,
     "end_time": "2025-01-26T11:50:50.350351",
     "exception": false,
     "start_time": "2025-01-26T11:50:35.244736",
     "status": "completed"
    },
    "tags": []
   },
   "outputs": [],
   "source": [
    "import tensorflow"
   ]
  },
  {
   "cell_type": "code",
   "execution_count": 20,
   "id": "929d71fb",
   "metadata": {
    "execution": {
     "iopub.execute_input": "2025-01-26T11:50:50.371495Z",
     "iopub.status.busy": "2025-01-26T11:50:50.370593Z",
     "iopub.status.idle": "2025-01-26T11:50:50.375950Z",
     "shell.execute_reply": "2025-01-26T11:50:50.374818Z"
    },
    "papermill": {
     "duration": 0.017909,
     "end_time": "2025-01-26T11:50:50.377971",
     "exception": false,
     "start_time": "2025-01-26T11:50:50.360062",
     "status": "completed"
    },
    "tags": []
   },
   "outputs": [],
   "source": [
    "from tensorflow import keras"
   ]
  },
  {
   "cell_type": "code",
   "execution_count": 21,
   "id": "235dbfb4",
   "metadata": {
    "execution": {
     "iopub.execute_input": "2025-01-26T11:50:50.397350Z",
     "iopub.status.busy": "2025-01-26T11:50:50.396932Z",
     "iopub.status.idle": "2025-01-26T11:50:50.476888Z",
     "shell.execute_reply": "2025-01-26T11:50:50.475868Z"
    },
    "papermill": {
     "duration": 0.091969,
     "end_time": "2025-01-26T11:50:50.479014",
     "exception": false,
     "start_time": "2025-01-26T11:50:50.387045",
     "status": "completed"
    },
    "tags": []
   },
   "outputs": [],
   "source": [
    "from tensorflow.keras import Sequential"
   ]
  },
  {
   "cell_type": "code",
   "execution_count": 22,
   "id": "c65c611c",
   "metadata": {
    "execution": {
     "iopub.execute_input": "2025-01-26T11:50:50.498746Z",
     "iopub.status.busy": "2025-01-26T11:50:50.498285Z",
     "iopub.status.idle": "2025-01-26T11:50:50.503962Z",
     "shell.execute_reply": "2025-01-26T11:50:50.503107Z"
    },
    "papermill": {
     "duration": 0.01741,
     "end_time": "2025-01-26T11:50:50.505781",
     "exception": false,
     "start_time": "2025-01-26T11:50:50.488371",
     "status": "completed"
    },
    "tags": []
   },
   "outputs": [],
   "source": [
    "from tensorflow.keras.layers import Dense"
   ]
  },
  {
   "cell_type": "code",
   "execution_count": 23,
   "id": "9d257775",
   "metadata": {
    "execution": {
     "iopub.execute_input": "2025-01-26T11:50:50.525946Z",
     "iopub.status.busy": "2025-01-26T11:50:50.525535Z",
     "iopub.status.idle": "2025-01-26T11:50:50.633273Z",
     "shell.execute_reply": "2025-01-26T11:50:50.632095Z"
    },
    "papermill": {
     "duration": 0.120234,
     "end_time": "2025-01-26T11:50:50.635391",
     "exception": false,
     "start_time": "2025-01-26T11:50:50.515157",
     "status": "completed"
    },
    "tags": []
   },
   "outputs": [
    {
     "name": "stderr",
     "output_type": "stream",
     "text": [
      "/usr/local/lib/python3.10/dist-packages/keras/src/layers/core/dense.py:87: UserWarning: Do not pass an `input_shape`/`input_dim` argument to a layer. When using Sequential models, prefer using an `Input(shape)` object as the first layer in the model instead.\n",
      "  super().__init__(activity_regularizer=activity_regularizer, **kwargs)\n"
     ]
    }
   ],
   "source": [
    "model= Sequential()\n",
    "model.add(Dense(11,activation='relu',input_dim=11))\n",
    "model.add(Dense(11,activation='relu'))\n",
    "model.add(Dense(1,activation='sigmoid'))"
   ]
  },
  {
   "cell_type": "code",
   "execution_count": 24,
   "id": "7befd8df",
   "metadata": {
    "execution": {
     "iopub.execute_input": "2025-01-26T11:50:50.655153Z",
     "iopub.status.busy": "2025-01-26T11:50:50.654672Z",
     "iopub.status.idle": "2025-01-26T11:50:50.674694Z",
     "shell.execute_reply": "2025-01-26T11:50:50.673629Z"
    },
    "papermill": {
     "duration": 0.031571,
     "end_time": "2025-01-26T11:50:50.676268",
     "exception": false,
     "start_time": "2025-01-26T11:50:50.644697",
     "status": "completed"
    },
    "tags": []
   },
   "outputs": [
    {
     "data": {
      "text/html": [
       "<pre style=\"white-space:pre;overflow-x:auto;line-height:normal;font-family:Menlo,'DejaVu Sans Mono',consolas,'Courier New',monospace\"><span style=\"font-weight: bold\">Model: \"sequential\"</span>\n",
       "</pre>\n"
      ],
      "text/plain": [
       "\u001b[1mModel: \"sequential\"\u001b[0m\n"
      ]
     },
     "metadata": {},
     "output_type": "display_data"
    },
    {
     "data": {
      "text/html": [
       "<pre style=\"white-space:pre;overflow-x:auto;line-height:normal;font-family:Menlo,'DejaVu Sans Mono',consolas,'Courier New',monospace\">┏━━━━━━━━━━━━━━━━━━━━━━━━━━━━━━━━━━━━━━┳━━━━━━━━━━━━━━━━━━━━━━━━━━━━━┳━━━━━━━━━━━━━━━━━┓\n",
       "┃<span style=\"font-weight: bold\"> Layer (type)                         </span>┃<span style=\"font-weight: bold\"> Output Shape                </span>┃<span style=\"font-weight: bold\">         Param # </span>┃\n",
       "┡━━━━━━━━━━━━━━━━━━━━━━━━━━━━━━━━━━━━━━╇━━━━━━━━━━━━━━━━━━━━━━━━━━━━━╇━━━━━━━━━━━━━━━━━┩\n",
       "│ dense (<span style=\"color: #0087ff; text-decoration-color: #0087ff\">Dense</span>)                        │ (<span style=\"color: #00d7ff; text-decoration-color: #00d7ff\">None</span>, <span style=\"color: #00af00; text-decoration-color: #00af00\">11</span>)                  │             <span style=\"color: #00af00; text-decoration-color: #00af00\">132</span> │\n",
       "├──────────────────────────────────────┼─────────────────────────────┼─────────────────┤\n",
       "│ dense_1 (<span style=\"color: #0087ff; text-decoration-color: #0087ff\">Dense</span>)                      │ (<span style=\"color: #00d7ff; text-decoration-color: #00d7ff\">None</span>, <span style=\"color: #00af00; text-decoration-color: #00af00\">11</span>)                  │             <span style=\"color: #00af00; text-decoration-color: #00af00\">132</span> │\n",
       "├──────────────────────────────────────┼─────────────────────────────┼─────────────────┤\n",
       "│ dense_2 (<span style=\"color: #0087ff; text-decoration-color: #0087ff\">Dense</span>)                      │ (<span style=\"color: #00d7ff; text-decoration-color: #00d7ff\">None</span>, <span style=\"color: #00af00; text-decoration-color: #00af00\">1</span>)                   │              <span style=\"color: #00af00; text-decoration-color: #00af00\">12</span> │\n",
       "└──────────────────────────────────────┴─────────────────────────────┴─────────────────┘\n",
       "</pre>\n"
      ],
      "text/plain": [
       "┏━━━━━━━━━━━━━━━━━━━━━━━━━━━━━━━━━━━━━━┳━━━━━━━━━━━━━━━━━━━━━━━━━━━━━┳━━━━━━━━━━━━━━━━━┓\n",
       "┃\u001b[1m \u001b[0m\u001b[1mLayer (type)                        \u001b[0m\u001b[1m \u001b[0m┃\u001b[1m \u001b[0m\u001b[1mOutput Shape               \u001b[0m\u001b[1m \u001b[0m┃\u001b[1m \u001b[0m\u001b[1m        Param #\u001b[0m\u001b[1m \u001b[0m┃\n",
       "┡━━━━━━━━━━━━━━━━━━━━━━━━━━━━━━━━━━━━━━╇━━━━━━━━━━━━━━━━━━━━━━━━━━━━━╇━━━━━━━━━━━━━━━━━┩\n",
       "│ dense (\u001b[38;5;33mDense\u001b[0m)                        │ (\u001b[38;5;45mNone\u001b[0m, \u001b[38;5;34m11\u001b[0m)                  │             \u001b[38;5;34m132\u001b[0m │\n",
       "├──────────────────────────────────────┼─────────────────────────────┼─────────────────┤\n",
       "│ dense_1 (\u001b[38;5;33mDense\u001b[0m)                      │ (\u001b[38;5;45mNone\u001b[0m, \u001b[38;5;34m11\u001b[0m)                  │             \u001b[38;5;34m132\u001b[0m │\n",
       "├──────────────────────────────────────┼─────────────────────────────┼─────────────────┤\n",
       "│ dense_2 (\u001b[38;5;33mDense\u001b[0m)                      │ (\u001b[38;5;45mNone\u001b[0m, \u001b[38;5;34m1\u001b[0m)                   │              \u001b[38;5;34m12\u001b[0m │\n",
       "└──────────────────────────────────────┴─────────────────────────────┴─────────────────┘\n"
      ]
     },
     "metadata": {},
     "output_type": "display_data"
    },
    {
     "data": {
      "text/html": [
       "<pre style=\"white-space:pre;overflow-x:auto;line-height:normal;font-family:Menlo,'DejaVu Sans Mono',consolas,'Courier New',monospace\"><span style=\"font-weight: bold\"> Total params: </span><span style=\"color: #00af00; text-decoration-color: #00af00\">276</span> (1.08 KB)\n",
       "</pre>\n"
      ],
      "text/plain": [
       "\u001b[1m Total params: \u001b[0m\u001b[38;5;34m276\u001b[0m (1.08 KB)\n"
      ]
     },
     "metadata": {},
     "output_type": "display_data"
    },
    {
     "data": {
      "text/html": [
       "<pre style=\"white-space:pre;overflow-x:auto;line-height:normal;font-family:Menlo,'DejaVu Sans Mono',consolas,'Courier New',monospace\"><span style=\"font-weight: bold\"> Trainable params: </span><span style=\"color: #00af00; text-decoration-color: #00af00\">276</span> (1.08 KB)\n",
       "</pre>\n"
      ],
      "text/plain": [
       "\u001b[1m Trainable params: \u001b[0m\u001b[38;5;34m276\u001b[0m (1.08 KB)\n"
      ]
     },
     "metadata": {},
     "output_type": "display_data"
    },
    {
     "data": {
      "text/html": [
       "<pre style=\"white-space:pre;overflow-x:auto;line-height:normal;font-family:Menlo,'DejaVu Sans Mono',consolas,'Courier New',monospace\"><span style=\"font-weight: bold\"> Non-trainable params: </span><span style=\"color: #00af00; text-decoration-color: #00af00\">0</span> (0.00 B)\n",
       "</pre>\n"
      ],
      "text/plain": [
       "\u001b[1m Non-trainable params: \u001b[0m\u001b[38;5;34m0\u001b[0m (0.00 B)\n"
      ]
     },
     "metadata": {},
     "output_type": "display_data"
    }
   ],
   "source": [
    "model.summary()"
   ]
  },
  {
   "cell_type": "code",
   "execution_count": 25,
   "id": "5c3b2824",
   "metadata": {
    "execution": {
     "iopub.execute_input": "2025-01-26T11:50:50.697060Z",
     "iopub.status.busy": "2025-01-26T11:50:50.696623Z",
     "iopub.status.idle": "2025-01-26T11:50:50.712156Z",
     "shell.execute_reply": "2025-01-26T11:50:50.711012Z"
    },
    "papermill": {
     "duration": 0.028245,
     "end_time": "2025-01-26T11:50:50.714211",
     "exception": false,
     "start_time": "2025-01-26T11:50:50.685966",
     "status": "completed"
    },
    "tags": []
   },
   "outputs": [],
   "source": [
    "model.compile(loss='binary_crossentropy',optimizer='Adam',metrics=['accuracy'])"
   ]
  },
  {
   "cell_type": "code",
   "execution_count": 26,
   "id": "e9ede066",
   "metadata": {
    "execution": {
     "iopub.execute_input": "2025-01-26T11:50:50.734983Z",
     "iopub.status.busy": "2025-01-26T11:50:50.734457Z",
     "iopub.status.idle": "2025-01-26T11:51:29.114001Z",
     "shell.execute_reply": "2025-01-26T11:51:29.112953Z"
    },
    "papermill": {
     "duration": 38.39218,
     "end_time": "2025-01-26T11:51:29.116028",
     "exception": false,
     "start_time": "2025-01-26T11:50:50.723848",
     "status": "completed"
    },
    "tags": []
   },
   "outputs": [
    {
     "name": "stdout",
     "output_type": "stream",
     "text": [
      "Epoch 1/100\n",
      "\u001b[1m200/200\u001b[0m \u001b[32m━━━━━━━━━━━━━━━━━━━━\u001b[0m\u001b[37m\u001b[0m \u001b[1m2s\u001b[0m 3ms/step - accuracy: 0.5336 - loss: 0.6974 - val_accuracy: 0.7981 - val_loss: 0.5139\n",
      "Epoch 2/100\n",
      "\u001b[1m200/200\u001b[0m \u001b[32m━━━━━━━━━━━━━━━━━━━━\u001b[0m\u001b[37m\u001b[0m \u001b[1m0s\u001b[0m 2ms/step - accuracy: 0.8089 - loss: 0.4758 - val_accuracy: 0.8094 - val_loss: 0.4612\n",
      "Epoch 3/100\n",
      "\u001b[1m200/200\u001b[0m \u001b[32m━━━━━━━━━━━━━━━━━━━━\u001b[0m\u001b[37m\u001b[0m \u001b[1m0s\u001b[0m 2ms/step - accuracy: 0.8178 - loss: 0.4356 - val_accuracy: 0.8188 - val_loss: 0.4277\n",
      "Epoch 4/100\n",
      "\u001b[1m200/200\u001b[0m \u001b[32m━━━━━━━━━━━━━━━━━━━━\u001b[0m\u001b[37m\u001b[0m \u001b[1m0s\u001b[0m 2ms/step - accuracy: 0.8271 - loss: 0.4171 - val_accuracy: 0.8288 - val_loss: 0.4014\n",
      "Epoch 5/100\n",
      "\u001b[1m200/200\u001b[0m \u001b[32m━━━━━━━━━━━━━━━━━━━━\u001b[0m\u001b[37m\u001b[0m \u001b[1m0s\u001b[0m 2ms/step - accuracy: 0.8374 - loss: 0.3946 - val_accuracy: 0.8400 - val_loss: 0.3822\n",
      "Epoch 6/100\n",
      "\u001b[1m200/200\u001b[0m \u001b[32m━━━━━━━━━━━━━━━━━━━━\u001b[0m\u001b[37m\u001b[0m \u001b[1m0s\u001b[0m 2ms/step - accuracy: 0.8501 - loss: 0.3799 - val_accuracy: 0.8413 - val_loss: 0.3705\n",
      "Epoch 7/100\n",
      "\u001b[1m200/200\u001b[0m \u001b[32m━━━━━━━━━━━━━━━━━━━━\u001b[0m\u001b[37m\u001b[0m \u001b[1m0s\u001b[0m 2ms/step - accuracy: 0.8552 - loss: 0.3609 - val_accuracy: 0.8500 - val_loss: 0.3615\n",
      "Epoch 8/100\n",
      "\u001b[1m200/200\u001b[0m \u001b[32m━━━━━━━━━━━━━━━━━━━━\u001b[0m\u001b[37m\u001b[0m \u001b[1m0s\u001b[0m 2ms/step - accuracy: 0.8523 - loss: 0.3676 - val_accuracy: 0.8481 - val_loss: 0.3569\n",
      "Epoch 9/100\n",
      "\u001b[1m200/200\u001b[0m \u001b[32m━━━━━━━━━━━━━━━━━━━━\u001b[0m\u001b[37m\u001b[0m \u001b[1m0s\u001b[0m 2ms/step - accuracy: 0.8554 - loss: 0.3534 - val_accuracy: 0.8487 - val_loss: 0.3539\n",
      "Epoch 10/100\n",
      "\u001b[1m200/200\u001b[0m \u001b[32m━━━━━━━━━━━━━━━━━━━━\u001b[0m\u001b[37m\u001b[0m \u001b[1m0s\u001b[0m 2ms/step - accuracy: 0.8619 - loss: 0.3479 - val_accuracy: 0.8512 - val_loss: 0.3520\n",
      "Epoch 11/100\n",
      "\u001b[1m200/200\u001b[0m \u001b[32m━━━━━━━━━━━━━━━━━━━━\u001b[0m\u001b[37m\u001b[0m \u001b[1m0s\u001b[0m 2ms/step - accuracy: 0.8531 - loss: 0.3516 - val_accuracy: 0.8525 - val_loss: 0.3508\n",
      "Epoch 12/100\n",
      "\u001b[1m200/200\u001b[0m \u001b[32m━━━━━━━━━━━━━━━━━━━━\u001b[0m\u001b[37m\u001b[0m \u001b[1m0s\u001b[0m 2ms/step - accuracy: 0.8597 - loss: 0.3488 - val_accuracy: 0.8519 - val_loss: 0.3502\n",
      "Epoch 13/100\n",
      "\u001b[1m200/200\u001b[0m \u001b[32m━━━━━━━━━━━━━━━━━━━━\u001b[0m\u001b[37m\u001b[0m \u001b[1m0s\u001b[0m 2ms/step - accuracy: 0.8650 - loss: 0.3323 - val_accuracy: 0.8512 - val_loss: 0.3498\n",
      "Epoch 14/100\n",
      "\u001b[1m200/200\u001b[0m \u001b[32m━━━━━━━━━━━━━━━━━━━━\u001b[0m\u001b[37m\u001b[0m \u001b[1m0s\u001b[0m 2ms/step - accuracy: 0.8606 - loss: 0.3357 - val_accuracy: 0.8494 - val_loss: 0.3494\n",
      "Epoch 15/100\n",
      "\u001b[1m200/200\u001b[0m \u001b[32m━━━━━━━━━━━━━━━━━━━━\u001b[0m\u001b[37m\u001b[0m \u001b[1m0s\u001b[0m 2ms/step - accuracy: 0.8607 - loss: 0.3350 - val_accuracy: 0.8537 - val_loss: 0.3503\n",
      "Epoch 16/100\n",
      "\u001b[1m200/200\u001b[0m \u001b[32m━━━━━━━━━━━━━━━━━━━━\u001b[0m\u001b[37m\u001b[0m \u001b[1m0s\u001b[0m 2ms/step - accuracy: 0.8667 - loss: 0.3342 - val_accuracy: 0.8512 - val_loss: 0.3503\n",
      "Epoch 17/100\n",
      "\u001b[1m200/200\u001b[0m \u001b[32m━━━━━━━━━━━━━━━━━━━━\u001b[0m\u001b[37m\u001b[0m \u001b[1m0s\u001b[0m 2ms/step - accuracy: 0.8618 - loss: 0.3378 - val_accuracy: 0.8481 - val_loss: 0.3518\n",
      "Epoch 18/100\n",
      "\u001b[1m200/200\u001b[0m \u001b[32m━━━━━━━━━━━━━━━━━━━━\u001b[0m\u001b[37m\u001b[0m \u001b[1m0s\u001b[0m 2ms/step - accuracy: 0.8550 - loss: 0.3441 - val_accuracy: 0.8481 - val_loss: 0.3505\n",
      "Epoch 19/100\n",
      "\u001b[1m200/200\u001b[0m \u001b[32m━━━━━━━━━━━━━━━━━━━━\u001b[0m\u001b[37m\u001b[0m \u001b[1m0s\u001b[0m 2ms/step - accuracy: 0.8612 - loss: 0.3446 - val_accuracy: 0.8506 - val_loss: 0.3521\n",
      "Epoch 20/100\n",
      "\u001b[1m200/200\u001b[0m \u001b[32m━━━━━━━━━━━━━━━━━━━━\u001b[0m\u001b[37m\u001b[0m \u001b[1m0s\u001b[0m 2ms/step - accuracy: 0.8648 - loss: 0.3281 - val_accuracy: 0.8531 - val_loss: 0.3498\n",
      "Epoch 21/100\n",
      "\u001b[1m200/200\u001b[0m \u001b[32m━━━━━━━━━━━━━━━━━━━━\u001b[0m\u001b[37m\u001b[0m \u001b[1m0s\u001b[0m 2ms/step - accuracy: 0.8674 - loss: 0.3260 - val_accuracy: 0.8544 - val_loss: 0.3494\n",
      "Epoch 22/100\n",
      "\u001b[1m200/200\u001b[0m \u001b[32m━━━━━━━━━━━━━━━━━━━━\u001b[0m\u001b[37m\u001b[0m \u001b[1m0s\u001b[0m 2ms/step - accuracy: 0.8626 - loss: 0.3409 - val_accuracy: 0.8494 - val_loss: 0.3518\n",
      "Epoch 23/100\n",
      "\u001b[1m200/200\u001b[0m \u001b[32m━━━━━━━━━━━━━━━━━━━━\u001b[0m\u001b[37m\u001b[0m \u001b[1m0s\u001b[0m 2ms/step - accuracy: 0.8647 - loss: 0.3325 - val_accuracy: 0.8500 - val_loss: 0.3502\n",
      "Epoch 24/100\n",
      "\u001b[1m200/200\u001b[0m \u001b[32m━━━━━━━━━━━━━━━━━━━━\u001b[0m\u001b[37m\u001b[0m \u001b[1m0s\u001b[0m 2ms/step - accuracy: 0.8596 - loss: 0.3330 - val_accuracy: 0.8506 - val_loss: 0.3492\n",
      "Epoch 25/100\n",
      "\u001b[1m200/200\u001b[0m \u001b[32m━━━━━━━━━━━━━━━━━━━━\u001b[0m\u001b[37m\u001b[0m \u001b[1m0s\u001b[0m 2ms/step - accuracy: 0.8617 - loss: 0.3378 - val_accuracy: 0.8487 - val_loss: 0.3508\n",
      "Epoch 26/100\n",
      "\u001b[1m200/200\u001b[0m \u001b[32m━━━━━━━━━━━━━━━━━━━━\u001b[0m\u001b[37m\u001b[0m \u001b[1m0s\u001b[0m 2ms/step - accuracy: 0.8675 - loss: 0.3236 - val_accuracy: 0.8500 - val_loss: 0.3509\n",
      "Epoch 27/100\n",
      "\u001b[1m200/200\u001b[0m \u001b[32m━━━━━━━━━━━━━━━━━━━━\u001b[0m\u001b[37m\u001b[0m \u001b[1m0s\u001b[0m 2ms/step - accuracy: 0.8564 - loss: 0.3449 - val_accuracy: 0.8500 - val_loss: 0.3503\n",
      "Epoch 28/100\n",
      "\u001b[1m200/200\u001b[0m \u001b[32m━━━━━━━━━━━━━━━━━━━━\u001b[0m\u001b[37m\u001b[0m \u001b[1m0s\u001b[0m 2ms/step - accuracy: 0.8661 - loss: 0.3294 - val_accuracy: 0.8462 - val_loss: 0.3509\n",
      "Epoch 29/100\n",
      "\u001b[1m200/200\u001b[0m \u001b[32m━━━━━━━━━━━━━━━━━━━━\u001b[0m\u001b[37m\u001b[0m \u001b[1m0s\u001b[0m 2ms/step - accuracy: 0.8630 - loss: 0.3375 - val_accuracy: 0.8512 - val_loss: 0.3503\n",
      "Epoch 30/100\n",
      "\u001b[1m200/200\u001b[0m \u001b[32m━━━━━━━━━━━━━━━━━━━━\u001b[0m\u001b[37m\u001b[0m \u001b[1m0s\u001b[0m 2ms/step - accuracy: 0.8664 - loss: 0.3261 - val_accuracy: 0.8481 - val_loss: 0.3509\n",
      "Epoch 31/100\n",
      "\u001b[1m200/200\u001b[0m \u001b[32m━━━━━━━━━━━━━━━━━━━━\u001b[0m\u001b[37m\u001b[0m \u001b[1m0s\u001b[0m 2ms/step - accuracy: 0.8596 - loss: 0.3404 - val_accuracy: 0.8456 - val_loss: 0.3518\n",
      "Epoch 32/100\n",
      "\u001b[1m200/200\u001b[0m \u001b[32m━━━━━━━━━━━━━━━━━━━━\u001b[0m\u001b[37m\u001b[0m \u001b[1m0s\u001b[0m 2ms/step - accuracy: 0.8714 - loss: 0.3147 - val_accuracy: 0.8481 - val_loss: 0.3512\n",
      "Epoch 33/100\n",
      "\u001b[1m200/200\u001b[0m \u001b[32m━━━━━━━━━━━━━━━━━━━━\u001b[0m\u001b[37m\u001b[0m \u001b[1m0s\u001b[0m 2ms/step - accuracy: 0.8683 - loss: 0.3267 - val_accuracy: 0.8469 - val_loss: 0.3521\n",
      "Epoch 34/100\n",
      "\u001b[1m200/200\u001b[0m \u001b[32m━━━━━━━━━━━━━━━━━━━━\u001b[0m\u001b[37m\u001b[0m \u001b[1m0s\u001b[0m 2ms/step - accuracy: 0.8674 - loss: 0.3219 - val_accuracy: 0.8450 - val_loss: 0.3533\n",
      "Epoch 35/100\n",
      "\u001b[1m200/200\u001b[0m \u001b[32m━━━━━━━━━━━━━━━━━━━━\u001b[0m\u001b[37m\u001b[0m \u001b[1m0s\u001b[0m 2ms/step - accuracy: 0.8590 - loss: 0.3444 - val_accuracy: 0.8438 - val_loss: 0.3525\n",
      "Epoch 36/100\n",
      "\u001b[1m200/200\u001b[0m \u001b[32m━━━━━━━━━━━━━━━━━━━━\u001b[0m\u001b[37m\u001b[0m \u001b[1m0s\u001b[0m 2ms/step - accuracy: 0.8668 - loss: 0.3212 - val_accuracy: 0.8481 - val_loss: 0.3511\n",
      "Epoch 37/100\n",
      "\u001b[1m200/200\u001b[0m \u001b[32m━━━━━━━━━━━━━━━━━━━━\u001b[0m\u001b[37m\u001b[0m \u001b[1m0s\u001b[0m 2ms/step - accuracy: 0.8641 - loss: 0.3242 - val_accuracy: 0.8475 - val_loss: 0.3501\n",
      "Epoch 38/100\n",
      "\u001b[1m200/200\u001b[0m \u001b[32m━━━━━━━━━━━━━━━━━━━━\u001b[0m\u001b[37m\u001b[0m \u001b[1m0s\u001b[0m 2ms/step - accuracy: 0.8580 - loss: 0.3326 - val_accuracy: 0.8450 - val_loss: 0.3533\n",
      "Epoch 39/100\n",
      "\u001b[1m200/200\u001b[0m \u001b[32m━━━━━━━━━━━━━━━━━━━━\u001b[0m\u001b[37m\u001b[0m \u001b[1m0s\u001b[0m 2ms/step - accuracy: 0.8734 - loss: 0.3161 - val_accuracy: 0.8487 - val_loss: 0.3513\n",
      "Epoch 40/100\n",
      "\u001b[1m200/200\u001b[0m \u001b[32m━━━━━━━━━━━━━━━━━━━━\u001b[0m\u001b[37m\u001b[0m \u001b[1m0s\u001b[0m 2ms/step - accuracy: 0.8678 - loss: 0.3255 - val_accuracy: 0.8512 - val_loss: 0.3530\n",
      "Epoch 41/100\n",
      "\u001b[1m200/200\u001b[0m \u001b[32m━━━━━━━━━━━━━━━━━━━━\u001b[0m\u001b[37m\u001b[0m \u001b[1m0s\u001b[0m 2ms/step - accuracy: 0.8616 - loss: 0.3372 - val_accuracy: 0.8450 - val_loss: 0.3520\n",
      "Epoch 42/100\n",
      "\u001b[1m200/200\u001b[0m \u001b[32m━━━━━━━━━━━━━━━━━━━━\u001b[0m\u001b[37m\u001b[0m \u001b[1m0s\u001b[0m 2ms/step - accuracy: 0.8656 - loss: 0.3328 - val_accuracy: 0.8444 - val_loss: 0.3504\n",
      "Epoch 43/100\n",
      "\u001b[1m200/200\u001b[0m \u001b[32m━━━━━━━━━━━━━━━━━━━━\u001b[0m\u001b[37m\u001b[0m \u001b[1m0s\u001b[0m 2ms/step - accuracy: 0.8721 - loss: 0.3130 - val_accuracy: 0.8462 - val_loss: 0.3501\n",
      "Epoch 44/100\n",
      "\u001b[1m200/200\u001b[0m \u001b[32m━━━━━━━━━━━━━━━━━━━━\u001b[0m\u001b[37m\u001b[0m \u001b[1m0s\u001b[0m 2ms/step - accuracy: 0.8750 - loss: 0.3199 - val_accuracy: 0.8438 - val_loss: 0.3506\n",
      "Epoch 45/100\n",
      "\u001b[1m200/200\u001b[0m \u001b[32m━━━━━━━━━━━━━━━━━━━━\u001b[0m\u001b[37m\u001b[0m \u001b[1m0s\u001b[0m 2ms/step - accuracy: 0.8677 - loss: 0.3170 - val_accuracy: 0.8475 - val_loss: 0.3511\n",
      "Epoch 46/100\n",
      "\u001b[1m200/200\u001b[0m \u001b[32m━━━━━━━━━━━━━━━━━━━━\u001b[0m\u001b[37m\u001b[0m \u001b[1m0s\u001b[0m 2ms/step - accuracy: 0.8639 - loss: 0.3243 - val_accuracy: 0.8475 - val_loss: 0.3523\n",
      "Epoch 47/100\n",
      "\u001b[1m200/200\u001b[0m \u001b[32m━━━━━━━━━━━━━━━━━━━━\u001b[0m\u001b[37m\u001b[0m \u001b[1m0s\u001b[0m 2ms/step - accuracy: 0.8605 - loss: 0.3384 - val_accuracy: 0.8431 - val_loss: 0.3510\n",
      "Epoch 48/100\n",
      "\u001b[1m200/200\u001b[0m \u001b[32m━━━━━━━━━━━━━━━━━━━━\u001b[0m\u001b[37m\u001b[0m \u001b[1m0s\u001b[0m 2ms/step - accuracy: 0.8639 - loss: 0.3236 - val_accuracy: 0.8450 - val_loss: 0.3502\n",
      "Epoch 49/100\n",
      "\u001b[1m200/200\u001b[0m \u001b[32m━━━━━━━━━━━━━━━━━━━━\u001b[0m\u001b[37m\u001b[0m \u001b[1m0s\u001b[0m 2ms/step - accuracy: 0.8676 - loss: 0.3276 - val_accuracy: 0.8481 - val_loss: 0.3505\n",
      "Epoch 50/100\n",
      "\u001b[1m200/200\u001b[0m \u001b[32m━━━━━━━━━━━━━━━━━━━━\u001b[0m\u001b[37m\u001b[0m \u001b[1m0s\u001b[0m 2ms/step - accuracy: 0.8658 - loss: 0.3227 - val_accuracy: 0.8475 - val_loss: 0.3513\n",
      "Epoch 51/100\n",
      "\u001b[1m200/200\u001b[0m \u001b[32m━━━━━━━━━━━━━━━━━━━━\u001b[0m\u001b[37m\u001b[0m \u001b[1m0s\u001b[0m 2ms/step - accuracy: 0.8773 - loss: 0.3118 - val_accuracy: 0.8506 - val_loss: 0.3495\n",
      "Epoch 52/100\n",
      "\u001b[1m200/200\u001b[0m \u001b[32m━━━━━━━━━━━━━━━━━━━━\u001b[0m\u001b[37m\u001b[0m \u001b[1m0s\u001b[0m 2ms/step - accuracy: 0.8689 - loss: 0.3248 - val_accuracy: 0.8450 - val_loss: 0.3512\n",
      "Epoch 53/100\n",
      "\u001b[1m200/200\u001b[0m \u001b[32m━━━━━━━━━━━━━━━━━━━━\u001b[0m\u001b[37m\u001b[0m \u001b[1m0s\u001b[0m 2ms/step - accuracy: 0.8545 - loss: 0.3428 - val_accuracy: 0.8444 - val_loss: 0.3518\n",
      "Epoch 54/100\n",
      "\u001b[1m200/200\u001b[0m \u001b[32m━━━━━━━━━━━━━━━━━━━━\u001b[0m\u001b[37m\u001b[0m \u001b[1m0s\u001b[0m 2ms/step - accuracy: 0.8604 - loss: 0.3344 - val_accuracy: 0.8462 - val_loss: 0.3515\n",
      "Epoch 55/100\n",
      "\u001b[1m200/200\u001b[0m \u001b[32m━━━━━━━━━━━━━━━━━━━━\u001b[0m\u001b[37m\u001b[0m \u001b[1m0s\u001b[0m 2ms/step - accuracy: 0.8638 - loss: 0.3245 - val_accuracy: 0.8431 - val_loss: 0.3518\n",
      "Epoch 56/100\n",
      "\u001b[1m200/200\u001b[0m \u001b[32m━━━━━━━━━━━━━━━━━━━━\u001b[0m\u001b[37m\u001b[0m \u001b[1m0s\u001b[0m 2ms/step - accuracy: 0.8694 - loss: 0.3195 - val_accuracy: 0.8438 - val_loss: 0.3518\n",
      "Epoch 57/100\n",
      "\u001b[1m200/200\u001b[0m \u001b[32m━━━━━━━━━━━━━━━━━━━━\u001b[0m\u001b[37m\u001b[0m \u001b[1m0s\u001b[0m 2ms/step - accuracy: 0.8666 - loss: 0.3200 - val_accuracy: 0.8444 - val_loss: 0.3512\n",
      "Epoch 58/100\n",
      "\u001b[1m200/200\u001b[0m \u001b[32m━━━━━━━━━━━━━━━━━━━━\u001b[0m\u001b[37m\u001b[0m \u001b[1m0s\u001b[0m 2ms/step - accuracy: 0.8640 - loss: 0.3309 - val_accuracy: 0.8494 - val_loss: 0.3529\n",
      "Epoch 59/100\n",
      "\u001b[1m200/200\u001b[0m \u001b[32m━━━━━━━━━━━━━━━━━━━━\u001b[0m\u001b[37m\u001b[0m \u001b[1m0s\u001b[0m 2ms/step - accuracy: 0.8665 - loss: 0.3235 - val_accuracy: 0.8438 - val_loss: 0.3521\n",
      "Epoch 60/100\n",
      "\u001b[1m200/200\u001b[0m \u001b[32m━━━━━━━━━━━━━━━━━━━━\u001b[0m\u001b[37m\u001b[0m \u001b[1m0s\u001b[0m 2ms/step - accuracy: 0.8701 - loss: 0.3136 - val_accuracy: 0.8481 - val_loss: 0.3498\n",
      "Epoch 61/100\n",
      "\u001b[1m200/200\u001b[0m \u001b[32m━━━━━━━━━━━━━━━━━━━━\u001b[0m\u001b[37m\u001b[0m \u001b[1m0s\u001b[0m 2ms/step - accuracy: 0.8645 - loss: 0.3202 - val_accuracy: 0.8456 - val_loss: 0.3521\n",
      "Epoch 62/100\n",
      "\u001b[1m200/200\u001b[0m \u001b[32m━━━━━━━━━━━━━━━━━━━━\u001b[0m\u001b[37m\u001b[0m \u001b[1m0s\u001b[0m 2ms/step - accuracy: 0.8675 - loss: 0.3180 - val_accuracy: 0.8469 - val_loss: 0.3533\n",
      "Epoch 63/100\n",
      "\u001b[1m200/200\u001b[0m \u001b[32m━━━━━━━━━━━━━━━━━━━━\u001b[0m\u001b[37m\u001b[0m \u001b[1m0s\u001b[0m 2ms/step - accuracy: 0.8618 - loss: 0.3264 - val_accuracy: 0.8475 - val_loss: 0.3546\n",
      "Epoch 64/100\n",
      "\u001b[1m200/200\u001b[0m \u001b[32m━━━━━━━━━━━━━━━━━━━━\u001b[0m\u001b[37m\u001b[0m \u001b[1m0s\u001b[0m 2ms/step - accuracy: 0.8712 - loss: 0.3131 - val_accuracy: 0.8444 - val_loss: 0.3527\n",
      "Epoch 65/100\n",
      "\u001b[1m200/200\u001b[0m \u001b[32m━━━━━━━━━━━━━━━━━━━━\u001b[0m\u001b[37m\u001b[0m \u001b[1m0s\u001b[0m 2ms/step - accuracy: 0.8567 - loss: 0.3370 - val_accuracy: 0.8456 - val_loss: 0.3516\n",
      "Epoch 66/100\n",
      "\u001b[1m200/200\u001b[0m \u001b[32m━━━━━━━━━━━━━━━━━━━━\u001b[0m\u001b[37m\u001b[0m \u001b[1m0s\u001b[0m 2ms/step - accuracy: 0.8614 - loss: 0.3286 - val_accuracy: 0.8419 - val_loss: 0.3518\n",
      "Epoch 67/100\n",
      "\u001b[1m200/200\u001b[0m \u001b[32m━━━━━━━━━━━━━━━━━━━━\u001b[0m\u001b[37m\u001b[0m \u001b[1m0s\u001b[0m 2ms/step - accuracy: 0.8632 - loss: 0.3283 - val_accuracy: 0.8456 - val_loss: 0.3523\n",
      "Epoch 68/100\n",
      "\u001b[1m200/200\u001b[0m \u001b[32m━━━━━━━━━━━━━━━━━━━━\u001b[0m\u001b[37m\u001b[0m \u001b[1m0s\u001b[0m 2ms/step - accuracy: 0.8691 - loss: 0.3269 - val_accuracy: 0.8406 - val_loss: 0.3529\n",
      "Epoch 69/100\n",
      "\u001b[1m200/200\u001b[0m \u001b[32m━━━━━━━━━━━━━━━━━━━━\u001b[0m\u001b[37m\u001b[0m \u001b[1m0s\u001b[0m 2ms/step - accuracy: 0.8701 - loss: 0.3130 - val_accuracy: 0.8444 - val_loss: 0.3506\n",
      "Epoch 70/100\n",
      "\u001b[1m200/200\u001b[0m \u001b[32m━━━━━━━━━━━━━━━━━━━━\u001b[0m\u001b[37m\u001b[0m \u001b[1m0s\u001b[0m 2ms/step - accuracy: 0.8685 - loss: 0.3202 - val_accuracy: 0.8462 - val_loss: 0.3518\n",
      "Epoch 71/100\n",
      "\u001b[1m200/200\u001b[0m \u001b[32m━━━━━━━━━━━━━━━━━━━━\u001b[0m\u001b[37m\u001b[0m \u001b[1m0s\u001b[0m 2ms/step - accuracy: 0.8758 - loss: 0.3130 - val_accuracy: 0.8456 - val_loss: 0.3510\n",
      "Epoch 72/100\n",
      "\u001b[1m200/200\u001b[0m \u001b[32m━━━━━━━━━━━━━━━━━━━━\u001b[0m\u001b[37m\u001b[0m \u001b[1m0s\u001b[0m 2ms/step - accuracy: 0.8689 - loss: 0.3208 - val_accuracy: 0.8462 - val_loss: 0.3511\n",
      "Epoch 73/100\n",
      "\u001b[1m200/200\u001b[0m \u001b[32m━━━━━━━━━━━━━━━━━━━━\u001b[0m\u001b[37m\u001b[0m \u001b[1m0s\u001b[0m 2ms/step - accuracy: 0.8647 - loss: 0.3329 - val_accuracy: 0.8475 - val_loss: 0.3511\n",
      "Epoch 74/100\n",
      "\u001b[1m200/200\u001b[0m \u001b[32m━━━━━━━━━━━━━━━━━━━━\u001b[0m\u001b[37m\u001b[0m \u001b[1m0s\u001b[0m 2ms/step - accuracy: 0.8719 - loss: 0.3103 - val_accuracy: 0.8444 - val_loss: 0.3523\n",
      "Epoch 75/100\n",
      "\u001b[1m200/200\u001b[0m \u001b[32m━━━━━━━━━━━━━━━━━━━━\u001b[0m\u001b[37m\u001b[0m \u001b[1m0s\u001b[0m 2ms/step - accuracy: 0.8591 - loss: 0.3258 - val_accuracy: 0.8481 - val_loss: 0.3560\n",
      "Epoch 76/100\n",
      "\u001b[1m200/200\u001b[0m \u001b[32m━━━━━━━━━━━━━━━━━━━━\u001b[0m\u001b[37m\u001b[0m \u001b[1m0s\u001b[0m 2ms/step - accuracy: 0.8578 - loss: 0.3273 - val_accuracy: 0.8438 - val_loss: 0.3522\n",
      "Epoch 77/100\n",
      "\u001b[1m200/200\u001b[0m \u001b[32m━━━━━━━━━━━━━━━━━━━━\u001b[0m\u001b[37m\u001b[0m \u001b[1m0s\u001b[0m 2ms/step - accuracy: 0.8718 - loss: 0.3142 - val_accuracy: 0.8487 - val_loss: 0.3508\n",
      "Epoch 78/100\n",
      "\u001b[1m200/200\u001b[0m \u001b[32m━━━━━━━━━━━━━━━━━━━━\u001b[0m\u001b[37m\u001b[0m \u001b[1m0s\u001b[0m 2ms/step - accuracy: 0.8664 - loss: 0.3198 - val_accuracy: 0.8450 - val_loss: 0.3521\n",
      "Epoch 79/100\n",
      "\u001b[1m200/200\u001b[0m \u001b[32m━━━━━━━━━━━━━━━━━━━━\u001b[0m\u001b[37m\u001b[0m \u001b[1m0s\u001b[0m 2ms/step - accuracy: 0.8621 - loss: 0.3179 - val_accuracy: 0.8431 - val_loss: 0.3531\n",
      "Epoch 80/100\n",
      "\u001b[1m200/200\u001b[0m \u001b[32m━━━━━━━━━━━━━━━━━━━━\u001b[0m\u001b[37m\u001b[0m \u001b[1m0s\u001b[0m 2ms/step - accuracy: 0.8639 - loss: 0.3288 - val_accuracy: 0.8438 - val_loss: 0.3530\n",
      "Epoch 81/100\n",
      "\u001b[1m200/200\u001b[0m \u001b[32m━━━━━━━━━━━━━━━━━━━━\u001b[0m\u001b[37m\u001b[0m \u001b[1m0s\u001b[0m 2ms/step - accuracy: 0.8714 - loss: 0.3144 - val_accuracy: 0.8431 - val_loss: 0.3532\n",
      "Epoch 82/100\n",
      "\u001b[1m200/200\u001b[0m \u001b[32m━━━━━━━━━━━━━━━━━━━━\u001b[0m\u001b[37m\u001b[0m \u001b[1m0s\u001b[0m 2ms/step - accuracy: 0.8707 - loss: 0.3112 - val_accuracy: 0.8462 - val_loss: 0.3522\n",
      "Epoch 83/100\n",
      "\u001b[1m200/200\u001b[0m \u001b[32m━━━━━━━━━━━━━━━━━━━━\u001b[0m\u001b[37m\u001b[0m \u001b[1m0s\u001b[0m 2ms/step - accuracy: 0.8622 - loss: 0.3193 - val_accuracy: 0.8469 - val_loss: 0.3526\n",
      "Epoch 84/100\n",
      "\u001b[1m200/200\u001b[0m \u001b[32m━━━━━━━━━━━━━━━━━━━━\u001b[0m\u001b[37m\u001b[0m \u001b[1m0s\u001b[0m 2ms/step - accuracy: 0.8680 - loss: 0.3231 - val_accuracy: 0.8456 - val_loss: 0.3521\n",
      "Epoch 85/100\n",
      "\u001b[1m200/200\u001b[0m \u001b[32m━━━━━━━━━━━━━━━━━━━━\u001b[0m\u001b[37m\u001b[0m \u001b[1m0s\u001b[0m 2ms/step - accuracy: 0.8636 - loss: 0.3188 - val_accuracy: 0.8438 - val_loss: 0.3535\n",
      "Epoch 86/100\n",
      "\u001b[1m200/200\u001b[0m \u001b[32m━━━━━━━━━━━━━━━━━━━━\u001b[0m\u001b[37m\u001b[0m \u001b[1m0s\u001b[0m 2ms/step - accuracy: 0.8749 - loss: 0.3095 - val_accuracy: 0.8450 - val_loss: 0.3526\n",
      "Epoch 87/100\n",
      "\u001b[1m200/200\u001b[0m \u001b[32m━━━━━━━━━━━━━━━━━━━━\u001b[0m\u001b[37m\u001b[0m \u001b[1m0s\u001b[0m 2ms/step - accuracy: 0.8625 - loss: 0.3314 - val_accuracy: 0.8469 - val_loss: 0.3551\n",
      "Epoch 88/100\n",
      "\u001b[1m200/200\u001b[0m \u001b[32m━━━━━━━━━━━━━━━━━━━━\u001b[0m\u001b[37m\u001b[0m \u001b[1m0s\u001b[0m 2ms/step - accuracy: 0.8682 - loss: 0.3141 - val_accuracy: 0.8469 - val_loss: 0.3520\n",
      "Epoch 89/100\n",
      "\u001b[1m200/200\u001b[0m \u001b[32m━━━━━━━━━━━━━━━━━━━━\u001b[0m\u001b[37m\u001b[0m \u001b[1m0s\u001b[0m 2ms/step - accuracy: 0.8745 - loss: 0.3063 - val_accuracy: 0.8469 - val_loss: 0.3517\n",
      "Epoch 90/100\n",
      "\u001b[1m200/200\u001b[0m \u001b[32m━━━━━━━━━━━━━━━━━━━━\u001b[0m\u001b[37m\u001b[0m \u001b[1m0s\u001b[0m 2ms/step - accuracy: 0.8679 - loss: 0.3196 - val_accuracy: 0.8469 - val_loss: 0.3541\n",
      "Epoch 91/100\n",
      "\u001b[1m200/200\u001b[0m \u001b[32m━━━━━━━━━━━━━━━━━━━━\u001b[0m\u001b[37m\u001b[0m \u001b[1m0s\u001b[0m 2ms/step - accuracy: 0.8658 - loss: 0.3199 - val_accuracy: 0.8456 - val_loss: 0.3525\n",
      "Epoch 92/100\n",
      "\u001b[1m200/200\u001b[0m \u001b[32m━━━━━━━━━━━━━━━━━━━━\u001b[0m\u001b[37m\u001b[0m \u001b[1m0s\u001b[0m 2ms/step - accuracy: 0.8709 - loss: 0.3176 - val_accuracy: 0.8469 - val_loss: 0.3519\n",
      "Epoch 93/100\n",
      "\u001b[1m200/200\u001b[0m \u001b[32m━━━━━━━━━━━━━━━━━━━━\u001b[0m\u001b[37m\u001b[0m \u001b[1m0s\u001b[0m 2ms/step - accuracy: 0.8642 - loss: 0.3247 - val_accuracy: 0.8469 - val_loss: 0.3532\n",
      "Epoch 94/100\n",
      "\u001b[1m200/200\u001b[0m \u001b[32m━━━━━━━━━━━━━━━━━━━━\u001b[0m\u001b[37m\u001b[0m \u001b[1m0s\u001b[0m 2ms/step - accuracy: 0.8668 - loss: 0.3146 - val_accuracy: 0.8469 - val_loss: 0.3523\n",
      "Epoch 95/100\n",
      "\u001b[1m200/200\u001b[0m \u001b[32m━━━━━━━━━━━━━━━━━━━━\u001b[0m\u001b[37m\u001b[0m \u001b[1m0s\u001b[0m 2ms/step - accuracy: 0.8707 - loss: 0.3233 - val_accuracy: 0.8475 - val_loss: 0.3527\n",
      "Epoch 96/100\n",
      "\u001b[1m200/200\u001b[0m \u001b[32m━━━━━━━━━━━━━━━━━━━━\u001b[0m\u001b[37m\u001b[0m \u001b[1m0s\u001b[0m 2ms/step - accuracy: 0.8675 - loss: 0.3215 - val_accuracy: 0.8475 - val_loss: 0.3529\n",
      "Epoch 97/100\n",
      "\u001b[1m200/200\u001b[0m \u001b[32m━━━━━━━━━━━━━━━━━━━━\u001b[0m\u001b[37m\u001b[0m \u001b[1m0s\u001b[0m 2ms/step - accuracy: 0.8577 - loss: 0.3368 - val_accuracy: 0.8481 - val_loss: 0.3533\n",
      "Epoch 98/100\n",
      "\u001b[1m200/200\u001b[0m \u001b[32m━━━━━━━━━━━━━━━━━━━━\u001b[0m\u001b[37m\u001b[0m \u001b[1m0s\u001b[0m 2ms/step - accuracy: 0.8638 - loss: 0.3224 - val_accuracy: 0.8500 - val_loss: 0.3525\n",
      "Epoch 99/100\n",
      "\u001b[1m200/200\u001b[0m \u001b[32m━━━━━━━━━━━━━━━━━━━━\u001b[0m\u001b[37m\u001b[0m \u001b[1m0s\u001b[0m 2ms/step - accuracy: 0.8708 - loss: 0.3138 - val_accuracy: 0.8487 - val_loss: 0.3544\n",
      "Epoch 100/100\n",
      "\u001b[1m200/200\u001b[0m \u001b[32m━━━━━━━━━━━━━━━━━━━━\u001b[0m\u001b[37m\u001b[0m \u001b[1m0s\u001b[0m 2ms/step - accuracy: 0.8636 - loss: 0.3266 - val_accuracy: 0.8487 - val_loss: 0.3536\n"
     ]
    }
   ],
   "source": [
    "history=model.fit(X_train_scaled,y_train,epochs=100,validation_split=0.2)"
   ]
  },
  {
   "cell_type": "code",
   "execution_count": 27,
   "id": "735567c0",
   "metadata": {
    "execution": {
     "iopub.execute_input": "2025-01-26T11:51:29.225240Z",
     "iopub.status.busy": "2025-01-26T11:51:29.224852Z",
     "iopub.status.idle": "2025-01-26T11:51:29.238832Z",
     "shell.execute_reply": "2025-01-26T11:51:29.237544Z"
    },
    "papermill": {
     "duration": 0.071234,
     "end_time": "2025-01-26T11:51:29.241097",
     "exception": false,
     "start_time": "2025-01-26T11:51:29.169863",
     "status": "completed"
    },
    "tags": []
   },
   "outputs": [
    {
     "data": {
      "text/plain": [
       "[array([[ 1.9001842e-01,  6.4587456e-01,  5.5358064e-01, -3.8231418e-01,\n",
       "         -7.1326621e-02, -2.6971114e-01,  2.3884001e-01, -3.7426096e-01,\n",
       "          1.6345886e-03,  2.9763228e-01,  6.5127921e-01],\n",
       "        [ 4.2893767e-01, -2.1433572e-01,  4.0397128e-01,  4.9186257e-01,\n",
       "          7.2618437e-01, -2.3117384e-01, -3.9108598e-01, -3.1597042e-01,\n",
       "          5.3419954e-01, -8.5072613e-01,  4.7350973e-01],\n",
       "        [ 3.6818989e-02, -2.1210295e-01, -2.1377634e-01,  7.8018224e-01,\n",
       "         -3.2043418e-01,  2.2117630e-02,  3.7619546e-01, -2.2985663e+00,\n",
       "         -3.5102282e-02,  4.2056346e-01, -3.2078776e-01],\n",
       "        [-1.0220196e+00,  3.6385494e-01,  2.7167547e-01, -1.7227341e-01,\n",
       "         -3.6412808e-01, -6.8152183e-01, -1.5717533e-01, -3.9599571e-01,\n",
       "         -1.0512489e+00,  7.0755041e-01,  9.2268550e-01],\n",
       "        [-2.1123952e-01, -2.4048848e-01, -3.8224441e-01,  9.4406784e-01,\n",
       "          1.5913725e-01,  2.6600581e-01,  4.1999283e-01,  1.6127233e-01,\n",
       "          2.2191279e-01,  7.5907475e-01, -7.2430634e-01],\n",
       "        [ 1.3619895e-01,  4.5063227e-02,  2.3914261e-01, -6.7412210e-01,\n",
       "         -9.2561781e-02,  1.5226245e-01, -9.9378061e-01, -6.9950946e-02,\n",
       "          3.5863388e-01,  2.0194173e-01, -1.5236329e-01],\n",
       "        [-1.0312207e+00, -1.1150351e-01, -1.3456136e-01, -7.2539204e-01,\n",
       "          2.8809750e-02, -1.4007185e-01,  1.6005357e-01,  6.4537448e-01,\n",
       "          6.1756253e-02,  9.4159640e-02, -1.3000111e-01],\n",
       "        [-1.0779682e+00,  6.5661587e-02, -3.6293097e-02,  2.8213325e-01,\n",
       "         -2.9892284e-01,  3.5278052e-02,  9.4755270e-02, -7.2941881e-01,\n",
       "          1.6411451e-01, -3.5572582e-01,  4.1871995e-01],\n",
       "        [ 2.3733832e-02,  6.4565390e-01,  1.3491930e-01,  1.5380172e-01,\n",
       "          1.0404495e-01,  9.0101413e-02,  7.9635181e-02,  6.5591991e-02,\n",
       "          8.5040653e-01,  2.6771995e-01,  5.1153624e-01],\n",
       "        [ 3.9258742e-01,  2.0553482e-01, -3.5764095e-01,  3.4139657e-01,\n",
       "         -2.1855882e-01,  8.5745537e-01, -5.6225175e-01,  2.3523580e-01,\n",
       "         -5.4917669e-01, -7.7117395e-01,  2.4048540e-01],\n",
       "        [ 3.9938769e-01,  4.8490179e-01,  4.7199509e-01, -3.4532556e-01,\n",
       "         -5.4077186e-02, -5.1425213e-01, -9.9529684e-02,  4.0866038e-01,\n",
       "         -8.4840275e-02, -6.9420236e-01, -8.8848084e-01]], dtype=float32),\n",
       " array([-2.0227894e-01,  3.5017267e-01,  5.4915899e-01, -2.7564347e-01,\n",
       "         6.9958252e-01,  2.2681609e-01, -3.4114376e-01, -8.3758816e-05,\n",
       "         8.8267285e-01, -1.1385433e-01, -1.9031389e-03], dtype=float32)]"
      ]
     },
     "execution_count": 27,
     "metadata": {},
     "output_type": "execute_result"
    }
   ],
   "source": [
    "model.layers[1].get_weights()"
   ]
  },
  {
   "cell_type": "code",
   "execution_count": 28,
   "id": "c45e96cb",
   "metadata": {
    "execution": {
     "iopub.execute_input": "2025-01-26T11:51:29.354756Z",
     "iopub.status.busy": "2025-01-26T11:51:29.354283Z",
     "iopub.status.idle": "2025-01-26T11:51:29.627071Z",
     "shell.execute_reply": "2025-01-26T11:51:29.625922Z"
    },
    "papermill": {
     "duration": 0.331475,
     "end_time": "2025-01-26T11:51:29.629095",
     "exception": false,
     "start_time": "2025-01-26T11:51:29.297620",
     "status": "completed"
    },
    "tags": []
   },
   "outputs": [
    {
     "name": "stdout",
     "output_type": "stream",
     "text": [
      "\u001b[1m63/63\u001b[0m \u001b[32m━━━━━━━━━━━━━━━━━━━━\u001b[0m\u001b[37m\u001b[0m \u001b[1m0s\u001b[0m 2ms/step\n"
     ]
    },
    {
     "data": {
      "text/plain": [
       "array([[0.02118053],\n",
       "       [0.08612932],\n",
       "       [0.03192845],\n",
       "       ...,\n",
       "       [0.00460524],\n",
       "       [0.04491641],\n",
       "       [0.39931312]], dtype=float32)"
      ]
     },
     "execution_count": 28,
     "metadata": {},
     "output_type": "execute_result"
    }
   ],
   "source": [
    "model.predict(X_test_scaled)"
   ]
  },
  {
   "cell_type": "code",
   "execution_count": 29,
   "id": "22d7091b",
   "metadata": {
    "execution": {
     "iopub.execute_input": "2025-01-26T11:51:29.745581Z",
     "iopub.status.busy": "2025-01-26T11:51:29.745080Z",
     "iopub.status.idle": "2025-01-26T11:51:29.915632Z",
     "shell.execute_reply": "2025-01-26T11:51:29.914428Z"
    },
    "papermill": {
     "duration": 0.232042,
     "end_time": "2025-01-26T11:51:29.918029",
     "exception": false,
     "start_time": "2025-01-26T11:51:29.685987",
     "status": "completed"
    },
    "tags": []
   },
   "outputs": [
    {
     "name": "stdout",
     "output_type": "stream",
     "text": [
      "\u001b[1m63/63\u001b[0m \u001b[32m━━━━━━━━━━━━━━━━━━━━\u001b[0m\u001b[37m\u001b[0m \u001b[1m0s\u001b[0m 1ms/step\n"
     ]
    }
   ],
   "source": [
    "y_log=model.predict(X_test_scaled)"
   ]
  },
  {
   "cell_type": "code",
   "execution_count": 30,
   "id": "e1286105",
   "metadata": {
    "execution": {
     "iopub.execute_input": "2025-01-26T11:51:30.124607Z",
     "iopub.status.busy": "2025-01-26T11:51:30.124038Z",
     "iopub.status.idle": "2025-01-26T11:51:30.129419Z",
     "shell.execute_reply": "2025-01-26T11:51:30.128104Z"
    },
    "papermill": {
     "duration": 0.15796,
     "end_time": "2025-01-26T11:51:30.131320",
     "exception": false,
     "start_time": "2025-01-26T11:51:29.973360",
     "status": "completed"
    },
    "tags": []
   },
   "outputs": [],
   "source": [
    "y_prd=np.where(y_log>.5,1,0)"
   ]
  },
  {
   "cell_type": "code",
   "execution_count": 31,
   "id": "54517fcf",
   "metadata": {
    "execution": {
     "iopub.execute_input": "2025-01-26T11:51:30.245332Z",
     "iopub.status.busy": "2025-01-26T11:51:30.244900Z",
     "iopub.status.idle": "2025-01-26T11:51:30.253753Z",
     "shell.execute_reply": "2025-01-26T11:51:30.252594Z"
    },
    "papermill": {
     "duration": 0.06855,
     "end_time": "2025-01-26T11:51:30.255430",
     "exception": false,
     "start_time": "2025-01-26T11:51:30.186880",
     "status": "completed"
    },
    "tags": []
   },
   "outputs": [
    {
     "data": {
      "text/plain": [
       "0.8575"
      ]
     },
     "execution_count": 31,
     "metadata": {},
     "output_type": "execute_result"
    }
   ],
   "source": [
    "from sklearn.metrics import accuracy_score\n",
    "accuracy_score(y_test,y_prd)"
   ]
  },
  {
   "cell_type": "code",
   "execution_count": 32,
   "id": "bd54a544",
   "metadata": {
    "execution": {
     "iopub.execute_input": "2025-01-26T11:51:30.367593Z",
     "iopub.status.busy": "2025-01-26T11:51:30.367147Z",
     "iopub.status.idle": "2025-01-26T11:51:30.371791Z",
     "shell.execute_reply": "2025-01-26T11:51:30.370615Z"
    },
    "papermill": {
     "duration": 0.062736,
     "end_time": "2025-01-26T11:51:30.373571",
     "exception": false,
     "start_time": "2025-01-26T11:51:30.310835",
     "status": "completed"
    },
    "tags": []
   },
   "outputs": [],
   "source": [
    "import matplotlib.pyplot as plt"
   ]
  },
  {
   "cell_type": "code",
   "execution_count": 33,
   "id": "9b08455e",
   "metadata": {
    "execution": {
     "iopub.execute_input": "2025-01-26T11:51:30.486047Z",
     "iopub.status.busy": "2025-01-26T11:51:30.485616Z",
     "iopub.status.idle": "2025-01-26T11:51:30.495988Z",
     "shell.execute_reply": "2025-01-26T11:51:30.494767Z"
    },
    "papermill": {
     "duration": 0.068687,
     "end_time": "2025-01-26T11:51:30.497729",
     "exception": false,
     "start_time": "2025-01-26T11:51:30.429042",
     "status": "completed"
    },
    "tags": []
   },
   "outputs": [
    {
     "data": {
      "text/plain": [
       "{'accuracy': [0.6893749833106995,\n",
       "  0.7998437285423279,\n",
       "  0.8170312643051147,\n",
       "  0.8304687738418579,\n",
       "  0.8401562571525574,\n",
       "  0.8471875190734863,\n",
       "  0.8512499928474426,\n",
       "  0.8543750047683716,\n",
       "  0.8557812571525574,\n",
       "  0.8553125262260437,\n",
       "  0.8567187786102295,\n",
       "  0.8584374785423279,\n",
       "  0.8571875095367432,\n",
       "  0.8584374785423279,\n",
       "  0.8587499856948853,\n",
       "  0.8595312237739563,\n",
       "  0.8587499856948853,\n",
       "  0.8596875071525574,\n",
       "  0.8606250286102295,\n",
       "  0.8596875071525574,\n",
       "  0.860156238079071,\n",
       "  0.8615624904632568,\n",
       "  0.8610937595367432,\n",
       "  0.8620312213897705,\n",
       "  0.8610937595367432,\n",
       "  0.8646875023841858,\n",
       "  0.8623437285423279,\n",
       "  0.8621875047683716,\n",
       "  0.8648437261581421,\n",
       "  0.8631250262260437,\n",
       "  0.8634374737739563,\n",
       "  0.8631250262260437,\n",
       "  0.8631250262260437,\n",
       "  0.864062488079071,\n",
       "  0.8642187714576721,\n",
       "  0.8628125190734863,\n",
       "  0.8635937571525574,\n",
       "  0.86328125,\n",
       "  0.8659374713897705,\n",
       "  0.8659374713897705,\n",
       "  0.8642187714576721,\n",
       "  0.8659374713897705,\n",
       "  0.8646875023841858,\n",
       "  0.8662499785423279,\n",
       "  0.8646875023841858,\n",
       "  0.8635937571525574,\n",
       "  0.8653125166893005,\n",
       "  0.8639062643051147,\n",
       "  0.8656250238418579,\n",
       "  0.8631250262260437,\n",
       "  0.8675000071525574,\n",
       "  0.8662499785423279,\n",
       "  0.8653125166893005,\n",
       "  0.8650000095367432,\n",
       "  0.8637499809265137,\n",
       "  0.8651562333106995,\n",
       "  0.8668749928474426,\n",
       "  0.864062488079071,\n",
       "  0.8656250238418579,\n",
       "  0.8651562333106995,\n",
       "  0.8645312786102295,\n",
       "  0.8662499785423279,\n",
       "  0.8650000095367432,\n",
       "  0.8657812476158142,\n",
       "  0.8635937571525574,\n",
       "  0.8643749952316284,\n",
       "  0.8642187714576721,\n",
       "  0.8684375286102295,\n",
       "  0.8643749952316284,\n",
       "  0.8639062643051147,\n",
       "  0.8673437237739563,\n",
       "  0.8673437237739563,\n",
       "  0.8665624856948853,\n",
       "  0.8650000095367432,\n",
       "  0.8656250238418579,\n",
       "  0.8662499785423279,\n",
       "  0.8675000071525574,\n",
       "  0.8637499809265137,\n",
       "  0.8646875023841858,\n",
       "  0.8651562333106995,\n",
       "  0.8681250214576721,\n",
       "  0.8659374713897705,\n",
       "  0.8643749952316284,\n",
       "  0.8654687404632568,\n",
       "  0.8645312786102295,\n",
       "  0.866406261920929,\n",
       "  0.8665624856948853,\n",
       "  0.8660937547683716,\n",
       "  0.8667187690734863,\n",
       "  0.8673437237739563,\n",
       "  0.8667187690734863,\n",
       "  0.8657812476158142,\n",
       "  0.8657812476158142,\n",
       "  0.8653125166893005,\n",
       "  0.8673437237739563,\n",
       "  0.8667187690734863,\n",
       "  0.8662499785423279,\n",
       "  0.8662499785423279,\n",
       "  0.8670312762260437,\n",
       "  0.8668749928474426],\n",
       " 'loss': [0.6058103442192078,\n",
       "  0.47599732875823975,\n",
       "  0.4395677447319031,\n",
       "  0.4139428436756134,\n",
       "  0.3936176002025604,\n",
       "  0.37853363156318665,\n",
       "  0.3681129217147827,\n",
       "  0.36064407229423523,\n",
       "  0.3552107512950897,\n",
       "  0.3520754873752594,\n",
       "  0.34930220246315,\n",
       "  0.3472139835357666,\n",
       "  0.3457324504852295,\n",
       "  0.34410834312438965,\n",
       "  0.34240707755088806,\n",
       "  0.3413024842739105,\n",
       "  0.3401523530483246,\n",
       "  0.33917737007141113,\n",
       "  0.3380385637283325,\n",
       "  0.33768096566200256,\n",
       "  0.3366384208202362,\n",
       "  0.33574190735816956,\n",
       "  0.3351976275444031,\n",
       "  0.33493614196777344,\n",
       "  0.3341157138347626,\n",
       "  0.33310675621032715,\n",
       "  0.33332955837249756,\n",
       "  0.3329336643218994,\n",
       "  0.33164119720458984,\n",
       "  0.3319106698036194,\n",
       "  0.3312073051929474,\n",
       "  0.33118870854377747,\n",
       "  0.330963134765625,\n",
       "  0.33010199666023254,\n",
       "  0.3302227258682251,\n",
       "  0.33000442385673523,\n",
       "  0.3291763663291931,\n",
       "  0.3291874825954437,\n",
       "  0.3287619352340698,\n",
       "  0.3285089135169983,\n",
       "  0.328561007976532,\n",
       "  0.32818713784217834,\n",
       "  0.32768672704696655,\n",
       "  0.3276021182537079,\n",
       "  0.3273322582244873,\n",
       "  0.3271145522594452,\n",
       "  0.3271186351776123,\n",
       "  0.32652392983436584,\n",
       "  0.3264816701412201,\n",
       "  0.32692375779151917,\n",
       "  0.32541951537132263,\n",
       "  0.32587894797325134,\n",
       "  0.3255874216556549,\n",
       "  0.3252395987510681,\n",
       "  0.3252803385257721,\n",
       "  0.32495319843292236,\n",
       "  0.3245733380317688,\n",
       "  0.3243958652019501,\n",
       "  0.3239046335220337,\n",
       "  0.3236943483352661,\n",
       "  0.3242127299308777,\n",
       "  0.32355958223342896,\n",
       "  0.32364630699157715,\n",
       "  0.32335177063941956,\n",
       "  0.32364022731781006,\n",
       "  0.32331356406211853,\n",
       "  0.32326701283454895,\n",
       "  0.32244181632995605,\n",
       "  0.323261022567749,\n",
       "  0.3227580189704895,\n",
       "  0.32267874479293823,\n",
       "  0.32265836000442505,\n",
       "  0.32203084230422974,\n",
       "  0.3221963942050934,\n",
       "  0.32215946912765503,\n",
       "  0.3224242329597473,\n",
       "  0.32166266441345215,\n",
       "  0.3220071792602539,\n",
       "  0.32130199670791626,\n",
       "  0.3217875361442566,\n",
       "  0.32125258445739746,\n",
       "  0.3214661777019501,\n",
       "  0.32165947556495667,\n",
       "  0.3219633102416992,\n",
       "  0.32109442353248596,\n",
       "  0.3215813934803009,\n",
       "  0.32087206840515137,\n",
       "  0.32118740677833557,\n",
       "  0.3207656443119049,\n",
       "  0.3207032382488251,\n",
       "  0.3209569454193115,\n",
       "  0.3211352825164795,\n",
       "  0.3203783929347992,\n",
       "  0.32102203369140625,\n",
       "  0.32049551606178284,\n",
       "  0.32057449221611023,\n",
       "  0.3206210434436798,\n",
       "  0.3201185464859009,\n",
       "  0.32023507356643677,\n",
       "  0.32016345858573914],\n",
       " 'val_accuracy': [0.7981250286102295,\n",
       "  0.809374988079071,\n",
       "  0.8187500238418579,\n",
       "  0.8287500143051147,\n",
       "  0.8399999737739563,\n",
       "  0.8412500023841858,\n",
       "  0.8500000238418579,\n",
       "  0.8481249809265137,\n",
       "  0.8487499952316284,\n",
       "  0.8512499928474426,\n",
       "  0.8525000214576721,\n",
       "  0.8518750071525574,\n",
       "  0.8512499928474426,\n",
       "  0.8493750095367432,\n",
       "  0.8537499904632568,\n",
       "  0.8512499928474426,\n",
       "  0.8481249809265137,\n",
       "  0.8481249809265137,\n",
       "  0.8506249785423279,\n",
       "  0.8531249761581421,\n",
       "  0.8543750047683716,\n",
       "  0.8493750095367432,\n",
       "  0.8500000238418579,\n",
       "  0.8506249785423279,\n",
       "  0.8487499952316284,\n",
       "  0.8500000238418579,\n",
       "  0.8500000238418579,\n",
       "  0.8462499976158142,\n",
       "  0.8512499928474426,\n",
       "  0.8481249809265137,\n",
       "  0.8456249833106995,\n",
       "  0.8481249809265137,\n",
       "  0.846875011920929,\n",
       "  0.8450000286102295,\n",
       "  0.84375,\n",
       "  0.8481249809265137,\n",
       "  0.8475000262260437,\n",
       "  0.8450000286102295,\n",
       "  0.8487499952316284,\n",
       "  0.8512499928474426,\n",
       "  0.8450000286102295,\n",
       "  0.8443750143051147,\n",
       "  0.8462499976158142,\n",
       "  0.84375,\n",
       "  0.8475000262260437,\n",
       "  0.8475000262260437,\n",
       "  0.8431249856948853,\n",
       "  0.8450000286102295,\n",
       "  0.8481249809265137,\n",
       "  0.8475000262260437,\n",
       "  0.8506249785423279,\n",
       "  0.8450000286102295,\n",
       "  0.8443750143051147,\n",
       "  0.8462499976158142,\n",
       "  0.8431249856948853,\n",
       "  0.84375,\n",
       "  0.8443750143051147,\n",
       "  0.8493750095367432,\n",
       "  0.84375,\n",
       "  0.8481249809265137,\n",
       "  0.8456249833106995,\n",
       "  0.846875011920929,\n",
       "  0.8475000262260437,\n",
       "  0.8443750143051147,\n",
       "  0.8456249833106995,\n",
       "  0.8418750166893005,\n",
       "  0.8456249833106995,\n",
       "  0.840624988079071,\n",
       "  0.8443750143051147,\n",
       "  0.8462499976158142,\n",
       "  0.8456249833106995,\n",
       "  0.8462499976158142,\n",
       "  0.8475000262260437,\n",
       "  0.8443750143051147,\n",
       "  0.8481249809265137,\n",
       "  0.84375,\n",
       "  0.8487499952316284,\n",
       "  0.8450000286102295,\n",
       "  0.8431249856948853,\n",
       "  0.84375,\n",
       "  0.8431249856948853,\n",
       "  0.8462499976158142,\n",
       "  0.846875011920929,\n",
       "  0.8456249833106995,\n",
       "  0.84375,\n",
       "  0.8450000286102295,\n",
       "  0.846875011920929,\n",
       "  0.846875011920929,\n",
       "  0.846875011920929,\n",
       "  0.846875011920929,\n",
       "  0.8456249833106995,\n",
       "  0.846875011920929,\n",
       "  0.846875011920929,\n",
       "  0.846875011920929,\n",
       "  0.8475000262260437,\n",
       "  0.8475000262260437,\n",
       "  0.8481249809265137,\n",
       "  0.8500000238418579,\n",
       "  0.8487499952316284,\n",
       "  0.8487499952316284],\n",
       " 'val_loss': [0.5138646960258484,\n",
       "  0.4611569344997406,\n",
       "  0.4276643693447113,\n",
       "  0.40140706300735474,\n",
       "  0.38221660256385803,\n",
       "  0.37052932381629944,\n",
       "  0.36152184009552,\n",
       "  0.35687339305877686,\n",
       "  0.35387662053108215,\n",
       "  0.3519735038280487,\n",
       "  0.35076290369033813,\n",
       "  0.3501511812210083,\n",
       "  0.3498326539993286,\n",
       "  0.3494480550289154,\n",
       "  0.35033729672431946,\n",
       "  0.3503130078315735,\n",
       "  0.35178011655807495,\n",
       "  0.35050272941589355,\n",
       "  0.3521130383014679,\n",
       "  0.34975817799568176,\n",
       "  0.34938374161720276,\n",
       "  0.3517974615097046,\n",
       "  0.3501538038253784,\n",
       "  0.34916964173316956,\n",
       "  0.3508043587207794,\n",
       "  0.35094645619392395,\n",
       "  0.3503452241420746,\n",
       "  0.3509259521961212,\n",
       "  0.3503184914588928,\n",
       "  0.35085660219192505,\n",
       "  0.35181865096092224,\n",
       "  0.3511542081832886,\n",
       "  0.3520602881908417,\n",
       "  0.35326796770095825,\n",
       "  0.352451354265213,\n",
       "  0.3510523736476898,\n",
       "  0.35005953907966614,\n",
       "  0.3532989025115967,\n",
       "  0.35125380754470825,\n",
       "  0.35300835967063904,\n",
       "  0.35197097063064575,\n",
       "  0.35037434101104736,\n",
       "  0.35008376836776733,\n",
       "  0.35064029693603516,\n",
       "  0.3511265814304352,\n",
       "  0.3523135483264923,\n",
       "  0.35098564624786377,\n",
       "  0.35017672181129456,\n",
       "  0.3504517078399658,\n",
       "  0.3512682020664215,\n",
       "  0.3495095372200012,\n",
       "  0.35118377208709717,\n",
       "  0.3518090844154358,\n",
       "  0.3514648377895355,\n",
       "  0.35179248452186584,\n",
       "  0.35180553793907166,\n",
       "  0.35117897391319275,\n",
       "  0.3529002368450165,\n",
       "  0.35212528705596924,\n",
       "  0.3497500717639923,\n",
       "  0.35211101174354553,\n",
       "  0.35326293110847473,\n",
       "  0.3545933663845062,\n",
       "  0.352662056684494,\n",
       "  0.35156577825546265,\n",
       "  0.3518022894859314,\n",
       "  0.35230565071105957,\n",
       "  0.3528527021408081,\n",
       "  0.3506395220756531,\n",
       "  0.35175251960754395,\n",
       "  0.35095319151878357,\n",
       "  0.3511382043361664,\n",
       "  0.3511016368865967,\n",
       "  0.35231995582580566,\n",
       "  0.35599422454833984,\n",
       "  0.3522201180458069,\n",
       "  0.35079073905944824,\n",
       "  0.35213837027549744,\n",
       "  0.35311880707740784,\n",
       "  0.3530292212963104,\n",
       "  0.35317349433898926,\n",
       "  0.3521522581577301,\n",
       "  0.35259246826171875,\n",
       "  0.3521018624305725,\n",
       "  0.3535294830799103,\n",
       "  0.35255321860313416,\n",
       "  0.3550625145435333,\n",
       "  0.3520485758781433,\n",
       "  0.35171225666999817,\n",
       "  0.35405197739601135,\n",
       "  0.35254019498825073,\n",
       "  0.3518953025341034,\n",
       "  0.3531537353992462,\n",
       "  0.3522759675979614,\n",
       "  0.3527064025402069,\n",
       "  0.35288941860198975,\n",
       "  0.35331395268440247,\n",
       "  0.35248956084251404,\n",
       "  0.3544076681137085,\n",
       "  0.3536459803581238]}"
      ]
     },
     "execution_count": 33,
     "metadata": {},
     "output_type": "execute_result"
    }
   ],
   "source": [
    "history.history"
   ]
  },
  {
   "cell_type": "code",
   "execution_count": 34,
   "id": "bbeca0a2",
   "metadata": {
    "execution": {
     "iopub.execute_input": "2025-01-26T11:51:30.611274Z",
     "iopub.status.busy": "2025-01-26T11:51:30.610781Z",
     "iopub.status.idle": "2025-01-26T11:51:30.908847Z",
     "shell.execute_reply": "2025-01-26T11:51:30.907580Z"
    },
    "papermill": {
     "duration": 0.357161,
     "end_time": "2025-01-26T11:51:30.910859",
     "exception": false,
     "start_time": "2025-01-26T11:51:30.553698",
     "status": "completed"
    },
    "tags": []
   },
   "outputs": [
    {
     "data": {
      "text/plain": [
       "[<matplotlib.lines.Line2D at 0x7e403db38220>]"
      ]
     },
     "execution_count": 34,
     "metadata": {},
     "output_type": "execute_result"
    },
    {
     "data": {
      "image/png": "[encoded data removed]",
      "text/plain": [
       "<Figure size 640x480 with 1 Axes>"
      ]
     },
     "metadata": {},
     "output_type": "display_data"
    }
   ],
   "source": [
    "plt.plot(history.history['loss'])\n",
    "plt.plot(history.history['val_loss'])"
   ]
  },
  {
   "cell_type": "code",
   "execution_count": 35,
   "id": "b3aa4798",
   "metadata": {
    "execution": {
     "iopub.execute_input": "2025-01-26T11:51:31.026779Z",
     "iopub.status.busy": "2025-01-26T11:51:31.026274Z",
     "iopub.status.idle": "2025-01-26T11:51:31.231539Z",
     "shell.execute_reply": "2025-01-26T11:51:31.230269Z"
    },
    "papermill": {
     "duration": 0.265415,
     "end_time": "2025-01-26T11:51:31.233357",
     "exception": false,
     "start_time": "2025-01-26T11:51:30.967942",
     "status": "completed"
    },
    "tags": []
   },
   "outputs": [
    {
     "data": {
      "text/plain": [
       "[<matplotlib.lines.Line2D at 0x7e40343d9690>]"
      ]
     },
     "execution_count": 35,
     "metadata": {},
     "output_type": "execute_result"
    },
    {
     "data": {
      "image/png": "[encoded data removed]",
      "text/plain": [
       "<Figure size 640x480 with 1 Axes>"
      ]
     },
     "metadata": {},
     "output_type": "display_data"
    }
   ],
   "source": [
    "plt.plot(history.history['accuracy'])\n",
    "plt.plot(history.history['val_accuracy'])"
   ]
  },
  {
   "cell_type": "code",
   "execution_count": null,
   "id": "12d3842f",
   "metadata": {
    "papermill": {
     "duration": 0.05696,
     "end_time": "2025-01-26T11:51:31.348078",
     "exception": false,
     "start_time": "2025-01-26T11:51:31.291118",
     "status": "completed"
    },
    "tags": []
   },
   "outputs": [],
   "source": []
  }
 ],
 "metadata": {
  "kaggle": {
   "accelerator": "none",
   "dataSources": [
    {
     "datasetId": 869651,
     "sourceId": 1481789,
     "sourceType": "datasetVersion"
    }
   ],
   "dockerImageVersionId": 30839,
   "isGpuEnabled": false,
   "isInternetEnabled": false,
   "language": "python",
   "sourceType": "notebook"
  },
  "kernelspec": {
   "display_name": "Python 3",
   "language": "python",
   "name": "python3"
  },
  "language_info": {
   "codemirror_mode": {
    "name": "ipython",
    "version": 3
   },
   "file_extension": ".py",
   "mimetype": "text/x-python",
   "name": "python",
   "nbconvert_exporter": "python",
   "pygments_lexer": "ipython3",
   "version": "3.10.12"
  },
  "papermill": {
   "default_parameters": {},
   "duration": 64.665984,
   "end_time": "2025-01-26T11:51:33.836203",
   "environment_variables": {},
   "exception": null,
   "input_path": "__notebook__.ipynb",
   "output_path": "__notebook__.ipynb",
   "parameters": {},
   "start_time": "2025-01-26T11:50:29.170219",
   "version": "2.6.0"
  }
 },
 "nbformat": 4,
 "nbformat_minor": 5
}
